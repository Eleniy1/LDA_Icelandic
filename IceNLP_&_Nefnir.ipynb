{
  "nbformat": 4,
  "nbformat_minor": 0,
  "metadata": {
    "colab": {
      "name": "IceNLP & Nefnir.ipynb\"",
      "provenance": [],
      "collapsed_sections": [],
      "include_colab_link": true
    },
    "kernelspec": {
      "name": "python3",
      "display_name": "Python 3"
    },
    "language_info": {
      "name": "python"
    }
  },
  "cells": [
    {
      "cell_type": "markdown",
      "metadata": {
        "id": "view-in-github",
        "colab_type": "text"
      },
      "source": [
        "<a href=\"https://colab.research.google.com/github/Eleniy1/LDA_Icelandic/blob/main/IceNLP_%26_Nefnir.ipynb\" target=\"_parent\"><img src=\"https://colab.research.google.com/assets/colab-badge.svg\" alt=\"Open In Colab\"/></a>"
      ]
    },
    {
      "cell_type": "markdown",
      "metadata": {
        "id": "VmkFxeeWIS_h"
      },
      "source": [
        "Для www.hugi.is"
      ]
    },
    {
      "cell_type": "code",
      "metadata": {
        "id": "sPhK8K_71zSr"
      },
      "source": [
        "from bs4 import BeautifulSoup\n",
        "import pandas as pd\n",
        "import urllib.request\n",
        "import re"
      ],
      "execution_count": null,
      "outputs": []
    },
    {
      "cell_type": "code",
      "metadata": {
        "id": "Q-DD9TJ5v7t-"
      },
      "source": [
        "texts1.to_csv('hugi.is.poems.csv', index=False)"
      ],
      "execution_count": null,
      "outputs": []
    },
    {
      "cell_type": "code",
      "metadata": {
        "id": "vRDl_X07tYGI"
      },
      "source": [
        "! wget https://github.com/hrafnl/icenlp/releases/download/v1.5.0/IceNLP-1.5.0.zip\n",
        "! unzip IceNLP-1.5.0.zip"
      ],
      "execution_count": null,
      "outputs": []
    },
    {
      "cell_type": "code",
      "metadata": {
        "id": "B1_zny31u2e_"
      },
      "source": [
        "! pwd"
      ],
      "execution_count": null,
      "outputs": []
    },
    {
      "cell_type": "code",
      "metadata": {
        "id": "POAT-MHr0hq0"
      },
      "source": [
        "texts1.info()"
      ],
      "execution_count": null,
      "outputs": []
    },
    {
      "cell_type": "code",
      "metadata": {
        "id": "oYCI4jrWxwWi"
      },
      "source": [
        "texts2 = pd.read_csv('hugi.is.poems_is.csv').rename({'icelandic_text': 'text'}, axis=1)\n",
        "texts2.head()"
      ],
      "execution_count": null,
      "outputs": []
    },
    {
      "cell_type": "code",
      "metadata": {
        "id": "58UXxgfC4LYK"
      },
      "source": [
        "texts2.info()"
      ],
      "execution_count": null,
      "outputs": []
    },
    {
      "cell_type": "code",
      "metadata": {
        "id": "TD0CfkVNxb7x"
      },
      "source": [
        "tagged_texts = []\n",
        "for text in texts2.text:\n",
        "    f = open('in.txt', 'w')\n",
        "    f.write('\\n'.join(text.split()))\n",
        "    f.close()\n",
        "\n",
        "    ! cd ./IceNLP/bat/icetagger/ && ./icetagger.sh < /content/in.txt > /content/out.txt\n",
        "\n",
        "    f = open('out.txt')\n",
        "    tagged_text = f.read().strip()\n",
        "    f.close()\n",
        "    tagged_texts.append(tagged_text)\n",
        "    \n",
        "\n",
        "texts2['tagged_text'] = tagged_texts"
      ],
      "execution_count": null,
      "outputs": []
    },
    {
      "cell_type": "code",
      "metadata": {
        "id": "1_nAwp4J1L-b"
      },
      "source": [
        "! pip install nefnir\n"
      ],
      "execution_count": null,
      "outputs": []
    },
    {
      "cell_type": "code",
      "metadata": {
        "id": "O53iW4fn1Qf2"
      },
      "source": [
        "import nefnir"
      ],
      "execution_count": null,
      "outputs": []
    },
    {
      "cell_type": "code",
      "metadata": {
        "id": "gW7nGnrk1eCu",
        "colab": {
          "base_uri": "https://localhost:8080/"
        },
        "outputId": "c1b0669c-750d-40ab-cd51-02291ba6f9ba"
      },
      "source": [
        "lemmat_texts = []\n",
        "for text in texts2.tagged_text:\n",
        "    words = text.split('\\n')\n",
        "    lemmat_text = []\n",
        "    for word in words:\n",
        "        w, t = word.split()[:2]\n",
        "        lw = nefnir.lemmatize(w, t)\n",
        "        lemmat_text.append(lw)\n",
        "    lemmat_texts.append(' '.join(lemmat_text))\n",
        "\n",
        "texts2['lemmat_text'] = lemmat_texts"
      ],
      "execution_count": null,
      "outputs": [
        {
          "output_type": "stream",
          "name": "stderr",
          "text": [
            "Unknown tag: ('sórMeir', 'lkenom')\n",
            "Unknown tag: ('FATAL', 'ERROR')\n"
          ]
        }
      ]
    },
    {
      "cell_type": "code",
      "metadata": {
        "id": "tzhkY1wr2zY2"
      },
      "source": [
        "texts2.head()"
      ],
      "execution_count": null,
      "outputs": []
    },
    {
      "cell_type": "code",
      "metadata": {
        "id": "YjDo80K443dG"
      },
      "source": [
        "texts2[['text', 'tagged_text', 'lemmat_text']].to_csv('hugi.is.poems_is_tagged.csv', index=False)"
      ],
      "execution_count": null,
      "outputs": []
    }
  ]
}