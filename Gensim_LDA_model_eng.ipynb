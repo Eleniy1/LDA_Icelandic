{
  "nbformat": 4,
  "nbformat_minor": 0,
  "metadata": {
    "colab": {
      "name": "Gensim LDA model eng.ipynb",
      "provenance": [],
      "authorship_tag": "ABX9TyP3Apv4GE/RkY0nM08T4013",
      "include_colab_link": true
    },
    "kernelspec": {
      "name": "python3",
      "display_name": "Python 3"
    },
    "language_info": {
      "name": "python"
    }
  },
  "cells": [
    {
      "cell_type": "markdown",
      "metadata": {
        "id": "view-in-github",
        "colab_type": "text"
      },
      "source": [
        "<a href=\"https://colab.research.google.com/github/Eleniy1/LDA_Icelandic/blob/main/Gensim_LDA_model_eng.ipynb\" target=\"_parent\"><img src=\"https://colab.research.google.com/assets/colab-badge.svg\" alt=\"Open In Colab\"/></a>"
      ]
    },
    {
      "cell_type": "code",
      "metadata": {
        "id": "gmT6nb5l6x5t",
        "colab": {
          "base_uri": "https://localhost:8080/"
        },
        "outputId": "64bc00c7-7668-4577-b10e-23b9044bbefc"
      },
      "source": [
        "!import nltk; nltk.download('stopwords')"
      ],
      "execution_count": 2,
      "outputs": [
        {
          "output_type": "stream",
          "name": "stdout",
          "text": [
            "/bin/bash: -c: line 0: syntax error near unexpected token `'stopwords''\n",
            "/bin/bash: -c: line 0: `import nltk; nltk.download('stopwords')'\n"
          ]
        }
      ]
    },
    {
      "cell_type": "code",
      "metadata": {
        "id": "Xhs9MRFLM7vQ"
      },
      "source": [
        "import re\n",
        "import numpy as np\n",
        "import pandas as pd\n",
        "from pprint import pprint"
      ],
      "execution_count": 26,
      "outputs": []
    },
    {
      "cell_type": "code",
      "metadata": {
        "id": "AiDGrstFNCCn"
      },
      "source": [
        "import gensim\n",
        "import gensim.corpora as corpora\n",
        "from gensim.utils import simple_preprocess\n",
        "from gensim.models import CoherenceModel\n"
      ],
      "execution_count": 27,
      "outputs": []
    },
    {
      "cell_type": "code",
      "metadata": {
        "id": "REOJMZGVNF82"
      },
      "source": [
        "import spacy"
      ],
      "execution_count": 28,
      "outputs": []
    },
    {
      "cell_type": "code",
      "metadata": {
        "id": "EdKrfJYcNOkL",
        "colab": {
          "base_uri": "https://localhost:8080/"
        },
        "outputId": "1ba6fd8c-fcdd-4430-9170-6da9f3fb17a4"
      },
      "source": [
        "!pip install pyLDAvis\n"
      ],
      "execution_count": 29,
      "outputs": [
        {
          "output_type": "stream",
          "name": "stdout",
          "text": [
            "Requirement already satisfied: pyLDAvis in /usr/local/lib/python3.7/dist-packages (3.3.1)\n",
            "Requirement already satisfied: gensim in /usr/local/lib/python3.7/dist-packages (from pyLDAvis) (3.6.0)\n",
            "Requirement already satisfied: scipy in /usr/local/lib/python3.7/dist-packages (from pyLDAvis) (1.4.1)\n",
            "Requirement already satisfied: scikit-learn in /usr/local/lib/python3.7/dist-packages (from pyLDAvis) (0.22.2.post1)\n",
            "Requirement already satisfied: sklearn in /usr/local/lib/python3.7/dist-packages (from pyLDAvis) (0.0)\n",
            "Requirement already satisfied: joblib in /usr/local/lib/python3.7/dist-packages (from pyLDAvis) (1.0.1)\n",
            "Requirement already satisfied: future in /usr/local/lib/python3.7/dist-packages (from pyLDAvis) (0.16.0)\n",
            "Requirement already satisfied: setuptools in /usr/local/lib/python3.7/dist-packages (from pyLDAvis) (57.4.0)\n",
            "Requirement already satisfied: numexpr in /usr/local/lib/python3.7/dist-packages (from pyLDAvis) (2.7.3)\n",
            "Requirement already satisfied: jinja2 in /usr/local/lib/python3.7/dist-packages (from pyLDAvis) (2.11.3)\n",
            "Requirement already satisfied: funcy in /usr/local/lib/python3.7/dist-packages (from pyLDAvis) (1.16)\n",
            "Requirement already satisfied: pandas>=1.2.0 in /usr/local/lib/python3.7/dist-packages (from pyLDAvis) (1.3.3)\n",
            "Requirement already satisfied: numpy>=1.20.0 in /usr/local/lib/python3.7/dist-packages (from pyLDAvis) (1.21.2)\n",
            "Requirement already satisfied: python-dateutil>=2.7.3 in /usr/local/lib/python3.7/dist-packages (from pandas>=1.2.0->pyLDAvis) (2.8.2)\n",
            "Requirement already satisfied: pytz>=2017.3 in /usr/local/lib/python3.7/dist-packages (from pandas>=1.2.0->pyLDAvis) (2018.9)\n",
            "Requirement already satisfied: six>=1.5 in /usr/local/lib/python3.7/dist-packages (from python-dateutil>=2.7.3->pandas>=1.2.0->pyLDAvis) (1.15.0)\n",
            "Requirement already satisfied: smart-open>=1.2.1 in /usr/local/lib/python3.7/dist-packages (from gensim->pyLDAvis) (5.2.1)\n",
            "Requirement already satisfied: MarkupSafe>=0.23 in /usr/local/lib/python3.7/dist-packages (from jinja2->pyLDAvis) (2.0.1)\n"
          ]
        }
      ]
    },
    {
      "cell_type": "code",
      "metadata": {
        "id": "GBEEbUq3Npna",
        "colab": {
          "base_uri": "https://localhost:8080/"
        },
        "outputId": "2ce76f1c-672d-4c07-e79b-b7696b1f4b8f"
      },
      "source": [
        "! pip install gensim"
      ],
      "execution_count": 7,
      "outputs": [
        {
          "output_type": "stream",
          "name": "stdout",
          "text": [
            "Requirement already satisfied: gensim in /usr/local/lib/python3.7/dist-packages (3.6.0)\n",
            "Requirement already satisfied: scipy>=0.18.1 in /usr/local/lib/python3.7/dist-packages (from gensim) (1.4.1)\n",
            "Requirement already satisfied: six>=1.5.0 in /usr/local/lib/python3.7/dist-packages (from gensim) (1.15.0)\n",
            "Requirement already satisfied: smart-open>=1.2.1 in /usr/local/lib/python3.7/dist-packages (from gensim) (5.2.1)\n",
            "Requirement already satisfied: numpy>=1.11.3 in /usr/local/lib/python3.7/dist-packages (from gensim) (1.21.2)\n"
          ]
        }
      ]
    },
    {
      "cell_type": "code",
      "metadata": {
        "id": "A_CRgLdYNwZV",
        "colab": {
          "base_uri": "https://localhost:8080/"
        },
        "outputId": "efe05fcb-c838-4390-8f13-939237cb3db5"
      },
      "source": [
        "import pyLDAvis\n",
        "import matplotlib.pyplot as plt"
      ],
      "execution_count": 8,
      "outputs": [
        {
          "output_type": "stream",
          "name": "stderr",
          "text": [
            "/usr/local/lib/python3.7/dist-packages/past/types/oldstr.py:5: DeprecationWarning: Using or importing the ABCs from 'collections' instead of from 'collections.abc' is deprecated since Python 3.3,and in 3.9 it will stop working\n",
            "  from collections import Iterable\n"
          ]
        }
      ]
    },
    {
      "cell_type": "code",
      "metadata": {
        "id": "HhwQT78cOJUy"
      },
      "source": [
        "import pyLDAvis.gensim_models as gensimvis\n",
        "pyLDAvis.enable_notebook()"
      ],
      "execution_count": 9,
      "outputs": []
    },
    {
      "cell_type": "code",
      "metadata": {
        "id": "veXBwkqHOVe_"
      },
      "source": [
        "import logging\n",
        "logging.basicConfig(format='%(asctime)s : %(levelname)s : %(message)s', level=logging.ERROR)"
      ],
      "execution_count": 10,
      "outputs": []
    },
    {
      "cell_type": "code",
      "metadata": {
        "id": "VpRk4UXMOdTW"
      },
      "source": [
        "import warnings\n",
        "warnings.filterwarnings(\"ignore\",category=DeprecationWarning)"
      ],
      "execution_count": 11,
      "outputs": []
    },
    {
      "cell_type": "code",
      "metadata": {
        "colab": {
          "base_uri": "https://localhost:8080/"
        },
        "id": "uD5j74KGOvb_",
        "outputId": "f15c5f35-c43b-4308-f492-8d788ba2a7b9"
      },
      "source": [
        "import nltk; nltk.download('stopwords')"
      ],
      "execution_count": 12,
      "outputs": [
        {
          "output_type": "stream",
          "name": "stdout",
          "text": [
            "[nltk_data] Downloading package stopwords to /root/nltk_data...\n",
            "[nltk_data]   Unzipping corpora/stopwords.zip.\n"
          ]
        },
        {
          "output_type": "execute_result",
          "data": {
            "text/plain": [
              "True"
            ]
          },
          "metadata": {},
          "execution_count": 12
        }
      ]
    },
    {
      "cell_type": "code",
      "metadata": {
        "id": "uCf9dVC6OvUV"
      },
      "source": [
        "from nltk.corpus import stopwords\n",
        "stop_words = stopwords.words('english')\n",
        "stop_words.extend(['from', 'subject', 're', 'edu', 'use'])"
      ],
      "execution_count": 13,
      "outputs": []
    },
    {
      "cell_type": "code",
      "metadata": {
        "id": "g187DjGrO0vN",
        "colab": {
          "base_uri": "https://localhost:8080/",
          "height": 698
        },
        "outputId": "103ae52b-a563-4d5f-f23d-18c961f26038"
      },
      "source": [
        "df = pd.read_csv('all.poems-2.csv')\n",
        "print(df.english_text)\n",
        "df.head()"
      ],
      "execution_count": 30,
      "outputs": [
        {
          "output_type": "stream",
          "name": "stdout",
          "text": [
            "0       Love is the one the greatest teacher of all by...\n",
            "1       When we bite them hooks of lies we ourselves d...\n",
            "2       I have been a prophet by seeing the error of m...\n",
            "3       We are moving forever upward to the clouds to ...\n",
            "4       To be wrapped in her presence is paradise even...\n",
            "                              ...                        \n",
            "1157    Let me see the menu again. I´d like to change ...\n",
            "1158    I woke up last night And looked to my right Th...\n",
            "1159    How are you now my four legged friend and wher...\n",
            "1160    Now It´s been weeks since I talked to you last...\n",
            "1161    Why wasn´t it meant to be, just tell me and I´...\n",
            "Name: english_text, Length: 1162, dtype: object\n"
          ]
        },
        {
          "output_type": "error",
          "ename": "AttributeError",
          "evalue": "ignored",
          "traceback": [
            "\u001b[0;31m---------------------------------------------------------------------------\u001b[0m",
            "\u001b[0;31mAttributeError\u001b[0m                            Traceback (most recent call last)",
            "\u001b[0;32m/usr/local/lib/python3.7/dist-packages/IPython/core/formatters.py\u001b[0m in \u001b[0;36m__call__\u001b[0;34m(self, obj)\u001b[0m\n\u001b[1;32m    336\u001b[0m             \u001b[0mmethod\u001b[0m \u001b[0;34m=\u001b[0m \u001b[0mget_real_method\u001b[0m\u001b[0;34m(\u001b[0m\u001b[0mobj\u001b[0m\u001b[0;34m,\u001b[0m \u001b[0mself\u001b[0m\u001b[0;34m.\u001b[0m\u001b[0mprint_method\u001b[0m\u001b[0;34m)\u001b[0m\u001b[0;34m\u001b[0m\u001b[0;34m\u001b[0m\u001b[0m\n\u001b[1;32m    337\u001b[0m             \u001b[0;32mif\u001b[0m \u001b[0mmethod\u001b[0m \u001b[0;32mis\u001b[0m \u001b[0;32mnot\u001b[0m \u001b[0;32mNone\u001b[0m\u001b[0;34m:\u001b[0m\u001b[0;34m\u001b[0m\u001b[0;34m\u001b[0m\u001b[0m\n\u001b[0;32m--> 338\u001b[0;31m                 \u001b[0;32mreturn\u001b[0m \u001b[0mmethod\u001b[0m\u001b[0;34m(\u001b[0m\u001b[0;34m)\u001b[0m\u001b[0;34m\u001b[0m\u001b[0;34m\u001b[0m\u001b[0m\n\u001b[0m\u001b[1;32m    339\u001b[0m             \u001b[0;32mreturn\u001b[0m \u001b[0;32mNone\u001b[0m\u001b[0;34m\u001b[0m\u001b[0;34m\u001b[0m\u001b[0m\n\u001b[1;32m    340\u001b[0m         \u001b[0;32melse\u001b[0m\u001b[0;34m:\u001b[0m\u001b[0;34m\u001b[0m\u001b[0;34m\u001b[0m\u001b[0m\n",
            "\u001b[0;32m/usr/local/lib/python3.7/dist-packages/pandas/core/frame.py\u001b[0m in \u001b[0;36m_repr_html_\u001b[0;34m(self)\u001b[0m\n\u001b[1;32m    796\u001b[0m \u001b[0;34m\u001b[0m\u001b[0m\n\u001b[1;32m    797\u001b[0m     \u001b[0;34m@\u001b[0m\u001b[0mproperty\u001b[0m\u001b[0;34m\u001b[0m\u001b[0;34m\u001b[0m\u001b[0m\n\u001b[0;32m--> 798\u001b[0;31m     \u001b[0;32mdef\u001b[0m \u001b[0mshape\u001b[0m\u001b[0;34m(\u001b[0m\u001b[0mself\u001b[0m\u001b[0;34m)\u001b[0m \u001b[0;34m->\u001b[0m \u001b[0mtuple\u001b[0m\u001b[0;34m[\u001b[0m\u001b[0mint\u001b[0m\u001b[0;34m,\u001b[0m \u001b[0mint\u001b[0m\u001b[0;34m]\u001b[0m\u001b[0;34m:\u001b[0m\u001b[0;34m\u001b[0m\u001b[0;34m\u001b[0m\u001b[0m\n\u001b[0m\u001b[1;32m    799\u001b[0m         \"\"\"\n\u001b[1;32m    800\u001b[0m         \u001b[0mReturn\u001b[0m \u001b[0ma\u001b[0m \u001b[0mtuple\u001b[0m \u001b[0mrepresenting\u001b[0m \u001b[0mthe\u001b[0m \u001b[0mdimensionality\u001b[0m \u001b[0mof\u001b[0m \u001b[0mthe\u001b[0m \u001b[0mDataFrame\u001b[0m\u001b[0;34m.\u001b[0m\u001b[0;34m\u001b[0m\u001b[0;34m\u001b[0m\u001b[0m\n",
            "\u001b[0;32m/usr/local/lib/python3.7/dist-packages/pandas/io/formats/format.py\u001b[0m in \u001b[0;36mto_html\u001b[0;34m(self, buf, encoding, classes, notebook, border)\u001b[0m\n\u001b[1;32m    986\u001b[0m         \u001b[0mencoding\u001b[0m\u001b[0;34m:\u001b[0m \u001b[0mstr\u001b[0m \u001b[0;34m|\u001b[0m \u001b[0;32mNone\u001b[0m \u001b[0;34m=\u001b[0m \u001b[0;32mNone\u001b[0m\u001b[0;34m,\u001b[0m\u001b[0;34m\u001b[0m\u001b[0;34m\u001b[0m\u001b[0m\n\u001b[1;32m    987\u001b[0m         \u001b[0mclasses\u001b[0m\u001b[0;34m:\u001b[0m \u001b[0mstr\u001b[0m \u001b[0;34m|\u001b[0m \u001b[0mlist\u001b[0m \u001b[0;34m|\u001b[0m \u001b[0mtuple\u001b[0m \u001b[0;34m|\u001b[0m \u001b[0;32mNone\u001b[0m \u001b[0;34m=\u001b[0m \u001b[0;32mNone\u001b[0m\u001b[0;34m,\u001b[0m\u001b[0;34m\u001b[0m\u001b[0;34m\u001b[0m\u001b[0m\n\u001b[0;32m--> 988\u001b[0;31m         \u001b[0mnotebook\u001b[0m\u001b[0;34m:\u001b[0m \u001b[0mbool\u001b[0m \u001b[0;34m=\u001b[0m \u001b[0;32mFalse\u001b[0m\u001b[0;34m,\u001b[0m\u001b[0;34m\u001b[0m\u001b[0;34m\u001b[0m\u001b[0m\n\u001b[0m\u001b[1;32m    989\u001b[0m         \u001b[0mborder\u001b[0m\u001b[0;34m:\u001b[0m \u001b[0mint\u001b[0m \u001b[0;34m|\u001b[0m \u001b[0;32mNone\u001b[0m \u001b[0;34m=\u001b[0m \u001b[0;32mNone\u001b[0m\u001b[0;34m,\u001b[0m\u001b[0;34m\u001b[0m\u001b[0;34m\u001b[0m\u001b[0m\n\u001b[1;32m    990\u001b[0m         \u001b[0mtable_id\u001b[0m\u001b[0;34m:\u001b[0m \u001b[0mstr\u001b[0m \u001b[0;34m|\u001b[0m \u001b[0;32mNone\u001b[0m \u001b[0;34m=\u001b[0m \u001b[0;32mNone\u001b[0m\u001b[0;34m,\u001b[0m\u001b[0;34m\u001b[0m\u001b[0;34m\u001b[0m\u001b[0m\n",
            "\u001b[0;31mAttributeError\u001b[0m: 'NotebookFormatter' object has no attribute 'get_result'"
          ]
        },
        {
          "output_type": "execute_result",
          "data": {
            "text/plain": [
              "   Unnamed: 0  Unnamed: 0.1                                       english_text\n",
              "0           0           0.0  Love is the one the greatest teacher of all by...\n",
              "1           1           1.0  When we bite them hooks of lies we ourselves d...\n",
              "2           2           2.0  I have been a prophet by seeing the error of m...\n",
              "3           3           3.0  We are moving forever upward to the clouds to ...\n",
              "4           4           4.0  To be wrapped in her presence is paradise even..."
            ]
          },
          "metadata": {},
          "execution_count": 30
        }
      ]
    },
    {
      "cell_type": "code",
      "metadata": {
        "id": "KmskTtbxWp3x",
        "colab": {
          "base_uri": "https://localhost:8080/"
        },
        "outputId": "486af78d-edc0-4498-f7af-d92a02c179b5"
      },
      "source": [
        "def sent_to_words(sentences):\n",
        "    for sentence in sentences:\n",
        "        yield(gensim.utils.simple_preprocess(str(sentence), deacc=True))\n",
        "data_words = list(sent_to_words(df.english_text))\n",
        "print(data_words[:10])"
      ],
      "execution_count": 31,
      "outputs": [
        {
          "output_type": "stream",
          "name": "stdout",
          "text": [
            "[['love', 'is', 'the', 'one', 'the', 'greatest', 'teacher', 'of', 'all', 'by', 'confronting', 'our', 'pain', 'we', 'rise', 'from', 'the', 'fall', 'yes', 'hell', 'is', 'while', 'person', 'is', 'confronting', 'their', 'pain', 'as', 'they', 'gradually', 'return', 'to', 'the', 'celestial', 'lane', 'only', 'through', 'illusions', 'by', 'upholding', 'the', 'lie', 'are', 'we', 'disconnected', 'and', 'about', 'to', 'die', 'life', 'is', 'the', 'freedom', 'that', 'within', 'our', 'heart', 'flies', 'rejecting', 'the', 'greed', 'that', 'we', 'rationalize', 'rejecting', 'the', 'myths', 'that', 'are', 'born', 'from', 'fear', 'eternal', 'damnation', 'is', 'never', 'near', 'for', 'hell', 'is', 'while', 'person', 'is', 'confronting', 'their', 'pain', 'as', 'we', 'gradually', 'return', 'to', 'the', 'celestial', 'lane', 'what', 'by', 'our', 'blood', 'would', 'god', 'ever', 'gain', 'sending', 'his', 'children', 'to', 'bathe', 'in', 'eternal', 'fire', 'is', 'that', 'the', 'power', 'that', 'we', 'should', 'admire', 'no', 'this', 'is', 'an', 'image', 'that', 'tears', 'me', 'apart', 'can', 'feel', 'it', 'is', 'wrong', 'in', 'my', 'heart', 'for', 'would', 'then', 'have', 'more', 'love', 'within', 'me', 'more', 'then', 'could', 'find', 'in', 'all', 'eternity', 'no', 'life', 'is', 'the', 'freedom', 'that', 'within', 'our', 'heart', 'flies', 'rejecting', 'the', 'greed', 'that', 'we', 'rationalize', 'as', 'we', 'ourselves', 'do', 'hypnotize', 'caught', 'up', 'in', 'the', 'illusions', 'caught', 'up', 'in', 'the', 'lies', 'finding', 'our', 'power', 'that', 'awakens', 'from', 'within', 'as', 'love', 'does', 'appear', 'and', 'our', 'new', 'life', 'will', 'begin', 'for', 'they', 'reflect', 'from', 'our', 'hearts', 'as', 'we', 'dive', 'into', 'this', 'life', 'angels', 'or', 'demons', 'are', 'born', 'through', 'our', 'own', 'strife'], ['when', 'we', 'bite', 'them', 'hooks', 'of', 'lies', 'we', 'ourselves', 'do', 'demonize', 'until', 'they', 'lead', 'us', 'into', 'wall', 'where', 'the', 'spirit', 'dies', 'so', 'we', 'must', 'reclaim', 'our', 'freedom', 'to', 'run', 'them', 'vallies', 'wild', 'we', 'must', 'reclaim', 'our', 'powers', 'to', 'fight', 'for', 'the', 'sacred', 'child', 'because', 'there', 'is', 'no', 'affection', 'no', 'connection', 'to', 'the', 'spirit', 'we', 'are', 'denied', 'them', 'sacred', 'tools', 'as', 'words', 'are', 'spread', 'against', 'them', 'sacred', 'schools', 'of', 'how', 'to', 'live', 'in', 'harmony', 'connected', 'to', 'the', 'goddess', 'and', 'how', 'to', 'sing', 'few', 'song', 'from', 'magical', 'chants', 'and', 'gather', 'some', 'leaves', 'from', 'healing', 'plants', 'so', 'we', 'can', 'find', 'our', 'connection', 'so', 'it', 'may', 'forever', 'grow', 'as', 'we', 'feel', 'the', 'deep', 'embrace', 'from', 'the', 'earth', 'below', 'so', 'we', 'can', 'gaze', 'upon', 'what', 'lays', 'ahead', 'and', 'see', 'the', 'souls', 'of', 'the', 'dead', 'so', 'them', 'tears', 'of', 'fear', 'will', 'be', 'shed', 'as', 'we', 'are', 'in', 'wonder', 'led', 'through', 'sacred', 'healing', 'boom', 'boom', 'boom', 'boom', 'boom', 'through', 'sacred', 'healing', 'when', 'we', 'are', 'connected', 'we', 'know', 'what', 'right', 'and', 'wrong', 'when', 'we', 'are', 'connected', 'we', 'can', 'hear', 'the', 'sacred', 'song', 'playing', 'deep', 'within', 'our', 'hearts', 'so', 'be', 'strong', 'as', 'tower', 'find', 'your', 'inner', 'power', 'to', 'recieve', 'what', 'already', 'here', 'through', 'your', 'intention', 'tune', 'into', 'the', 'dimension', 'where', 'you', 're', 'spirit', 'runs', 'them', 'vallies', 'wild', 'free', 'from', 'the', 'shackles', 'of', 'devouring', 'thought', 'where', 'intuition', 'leads', 'the', 'way', 'free', 'from', 'the', 'cave', 'like', 'point', 'of', 'view', 'as', 'it', 'burst', 'we', 'can', 'see', 'right', 'through', 'when', 'in', 'deep', 'connection', 'to', 'the', 'sacred', 'song', 'we', 'can', 'feel', 'within', 'our', 'hearts', 'what', 'is', 'right', 'or', 'wrong', 'yes', 'we', 'must', 'take', 'look', 'at', 'this', 'man', 'made', 'law', 'it', 'kills', 'the', 'wonder', 'and', 'the', 'awe', 'banning', 'sacred', 'journey', 'to', 'the', 'soul', 'slowing', 'down', 'humanity', 'role', 'to', 'emerge', 'at', 'one', 'with', 'the', 'whole', 'we', 'just', 'have', 'to', 'listen', 'to', 'listen', 'to', 'the', 'song', 'it', 'tells', 'of', 'adventurous', 'ways', 'ways', 'that', 'emerge', 'from', 'within', 'ourselves', 'ways', 'that', 'are', 'sacred', 'and', 'pure', 'and', 'like', 'rivers', 'they', 'flow', 'out', 'of', 'us', 'into', 'the', 'world', 'as', 'they', 'shape', 'the', 'scene', 'around', 'yes', 'when', 'we', 'are', 'connected', 'we', 'know', 'what', 'right', 'or', 'wrong', 'we', 'can', 'hear', 'the', 'sacred', 'song', 'playing', 'deep', 'within', 'our', 'hearts', 'showing', 'us', 'the', 'tales', 'and', 'the', 'parts', 'to', 'play'], ['have', 'been', 'prophet', 'by', 'seeing', 'the', 'error', 'of', 'my', 'way', 'so', 'now', 'steer', 'my', 'vessel', 'towards', 'brighter', 'day', 'yes', 'have', 'been', 'the', 'fool', 'that', 'in', 'anger', 'strode', 'against', 'the', 'stream', 'by', 'doing', 'or', 'saying', 'something', 'hurtful', 'to', 'the', 'team', 'but', 'have', 'also', 'been', 'the', 'one', 'that', 'loves', 'the', 'one', 'that', 'made', 'amends', 'by', 'choosing', 'better', 'lifestyle', 'by', 'the', 'grace', 'of', 'second', 'chance', 'so', 'even', 'the', 'night', 'has', 'begun', 'to', 'glisten', 'bright', 'by', 'the', 'moon', 'above', 'for', 'my', 'heart', 'has', 'begun', 'to', 'listen', 'to', 'the', 'jewel', 'of', 'life', 'that', 'is', 'love'], ['we', 'are', 'moving', 'forever', 'upward', 'to', 'the', 'clouds', 'to', 'the', 'sky', 'to', 'the', 'neverending', 'stars', 'for', 'many', 'have', 'found', 'them', 'treasures', 'awaiting', 'deep', 'within', 'they', 'dance', 'to', 'the', 'rythm', 'of', 'the', 'soul', 'they', 'strive', 'for', 'the', 'beauty', 'of', 'the', 'whole', 'for', 'the', 'unity', 'of', 'life', 'they', 'do', 'sense', 'them', 'feelings', 'of', 'love', 'so', 'intense', 'love', 'has', 'always', 'been', 'here', 'from', 'the', 'ponds', 'of', 'wisdom', 'she', 'rose', 'and', 'many', 'have', 'found', 'them', 'jewels', 'by', 'diving', 'deep', 'within', 'to', 'the', 'dimensions', 'of', 'beauty', 'that', 'many', 'have', 'shared', 'to', 'the', 'palace', 'of', 'freedom', 'and', 'love', 'where', 'the', 'air', 'is', 'light', 'as', 'feather', 'and', 'them', 'heavy', 'winds', 'are', 'away', 'when', 'they', 'do', 'come', 'to', 'visit', 'we', 'must', 'take', 'shelter', 'and', 'pray', 'within', 'our', 'own', 'temples', 'in', 'touch', 'with', 'the', 'flow', 'in', 'touch', 'with', 'the', 'river', 'of', 'life', 'through', 'our', 'awareness', 'alone', 'she', 'whispers', 'secret', 'the', 'river', 'gently', 'flowing', 'in', 'her', 'beauty', 'she', 'tells', 'us', 'to', 'follow', 'to', 'follow', 'the', 'sacred', 'flow', 'our', 'connection', 'this', 'everflowing', 'now', 'opens', 'the', 'doors', 'above', 'to', 'the', 'all', 'father', 'to', 'the', 'all', 'mother', 'we', 'fly', 'on', 'the', 'wings', 'of', 'the', 'dove', 'in', 'the', 'realms', 'of', 'love', 'she', 'expands', 'her', 'wings', 'and', 'in', 'humble', 'delight', 'we', 'arrive', 'to', 'treasured', 'state', 'of', 'soul', 'from', 'within', 'our', 'temples', 'of', 'meditation', 'the', 'divine', 'church', 'of', 'creation', 'where', 'the', 'unity', 'of', 'life', 'we', 'do', 'sense', 'them', 'feelings', 'of', 'love', 'so', 'intense', 'through', 'our', 'awareness', 'alone', 'she', 'whispers', 'secret', 'the', 'river', 'gently', 'flowing', 'in', 'her', 'beauty', 'she', 'tells', 'us', 'to', 'follow', 'to', 'follow', 'the', 'sacred', 'flow'], ['to', 'be', 'wrapped', 'in', 'her', 'presence', 'is', 'paradise', 'even', 'when', 'the', 'darkness', 'surrounds', 'she', 'just', 'sings', 'song', 'into', 'the', 'night', 'and', 'them', 'demons', 'all', 'take', 'flight', 'for', 'hymns', 'of', 'fire', 'do', 'dwell', 'in', 'her', 'soul', 'fleeting', 'expressions', 'and', 'love', 'to', 'the', 'whole', 'now', 'finding', 'it', 'way', 'into', 'my', 'heart', 'never', 'again', 'shall', 'be', 'in', 'the', 'dark', 'now', 'with', 'this', 'beauty', 'vision', 'so', 'fine', 'submerged', 'in', 'the', 'flow', 'the', 'adventure', 'divine', 'she', 'tells', 'me', 'she', 'tells', 'me', 'it', 'just', 'the', 'beginning', 'the', 'beginning', 'of', 'jewels', 'and', 'dreams', 'for', 'our', 'spiritual', 'powers', 'our', 'roses', 'divine', 'will', 'make', 'us', 'palace', 'that', 'from', 'heaven', 'will', 'shine', 'wherever', 'we', 'll', 'travel', 'wherever', 'we', 'll', 'be', 'and', 'them', 'faries', 'of', 'earth', 'will', 'gather', 'to', 'see', 'as', 'they', 'join', 'the', 'dance', 'the', 'dance', 'to', 'be', 'free', 'and', 'the', 'birds', 'do', 'sing', 'accordingly', 'into', 'the', 'mysteries', 'they', 'will', 'then', 'lead', 'us', 'to', 'lake', 'of', 'wonder', 'it', 'might', 'we', 'do', 'ponder', 'but', 'swiftly', 'they', 'drag', 'us', 'away', 'through', 'worlds', 'and', 'visions', 'of', 'sacred', 'knowledge', 'but', 'the', 'last', 'part', 'we', 'must', 'go', 'alone', 'them', 'final', 'peaks', 'them', 'final', 'hours', 'we', 'strive', 'with', 'intent', 'to', 'make', 'them', 'ours', 'there', 'is', 'no', 'other', 'way', 'to', 'them', 'golden', 'towers', 'within', 'our', 'hearts', 'we', 'reach', 'for', 'them', 'flowers', 'of', 'life', 'arnar', 'fells', 'snorrason'], ['just', 'remember', 'desember', 'isn', 'fairthou', 'some', 'share', 'that', 'they', 'don', 'careon', 'most', 'it', 'snows', 'and', 'rainsu', 'can', 'tell', 'from', 'there', 'vainsfamilies', 'are', 'not', 'the', 'samevictims', 'of', 'systems', 'gameand', 'thousands', 'hands', 'who', 'work', 'for', 'brands', 'fallowing', 'demands', 'and', 'other', 'comandsto', 'many', 'families', 'sufferingpeople', 'looking', 'other', 'way', 'bufferingwhen', 'will', 'the', 'time', 'comewhere', 'everyone', 'have', 'save', 'homepeople', 'laying', 'praying', 'and', 'they', 're', 'sayingthey', 'need', 'saving', 'they', 'have', 'no', 'way', 'of', 'payingchildren', 'are', 'cryingpeople', 'stealing', 'and', 'lyingchildren', 'growing', 'toughlife', 'tought', 'them', 'living', 'roughthe', 'crisis', 'the', 'rich', 'don', 'recognizesthey', 'epecrisis', 'others', 'poor', 'fails', 'and', 'risesthey', 'don', 'have', 'solutiononly', 'their', 'absulutionthey', 'are', 'narrow', 'mindedspoiled', 'and', 'blindeddon', 'blame', 'me', 'just', 'need', 'to', 'be', 'freedon', 'you', 'agree', 'or', 'are', 'you', 'angry', 'at', 'medreams', 'are', 'like', 'northen', 'lights', 'sayu', 'have', 'to', 'catch', 'them', 'before', 'they', 'fade', 'awayhold', 'on', 'to', 'them', 'and', 'make', 'it', 'bigthere', 'no', 'reason', 'to', 'stay', 'in', 'shit', 'and', 'dig'], ['magnus', 'poems', 'samstarfi', 'hf', 'kynna', 'með', 'stolti', 'stærsta', 'ljoðaviðburð', 'sogunnarkvæðið', 'sem', 'farið', 'hefur', 'sigurfor', 'um', 'heiminnog', 'nu', 'fyrsta', 'sinn', 'islensku', 'þið', 'helduð', 'að', 'hann', 'væri', 'buinn', 'að', 'veraen', 'hann', 'hefur', 'engu', 'gleymt', 'ur', 'smiðju', 'skaldsins', 'sem', 'færði', 'okkur', 'ljoð', 'borð', 'við', 'dropi', 'mannhafinu', 'og', 'volundarhus', 'einmanaleikans', 'kemur', 'episkt', 'storvirki', 'erindumsem', 'lætur', 'engan', 'eru', 'sama', 'malistorbrotið', 'nytmagnþrungið', 'el', 'paisguðdomlegt', 'der', 'spiegelmagnus', 'er', 'ljoðlistin', 'holdi', 'klædd', 'lata', 'þetta', 'einstaka', 'tækifæri', 'framhja', 'þer', 'faratryggðu', 'þer', 'miða', 'nuna'], ['sometimes', 'it', 'not', 'how', 'widely', 'you', 've', 'smiledbut', 'the', 'reason', 'why', 'you', 'stopped', 'smiling', 'sometimes', 'we', 'don', 'care', 'who', 'liedbut', 'rather', 'what', 'was', 'his', 'purpose', 'in', 'lying', 'sometimes', 'it', 'not', 'the', 'times', 'you', 've', 'criedbut', 'the', 'tears', 'you', 'shed', 'while', 'cryingand', 'sometimes', 'it', 'not', 'how', 'many', 'have', 'died', 'but', 'who', 'was', 'with', 'them', 'while', 'dyinghanna', 'wasted', 'on', 'fixing', 'all', 'the', 'problems', 'that', 'you', 'made', 'in', 'your', 'own', 'head'], ['life', 'in', 'shadowsdeath', 'in', 'lightlife', 'in', 'meadowsdeath', 'is', 'plightthe', 'world', 'is', 'crashingand', 'so', 'am', 'idrowning', 'and', 'splashingthey', 'won', 'crymy', 'weight', 'my', 'angstit', 'wears', 'me', 'downthe', 'prince', 'of', 'painhe', 'wears', 'no', 'crowncrawling', 'sweatingthrough', 'yellow', 'skinhis', 'thoughts', 'unsettlinghis', 'eyes', 'look', 'grimhis', 'last', 'breath', 'drawnhe', 'thinks', 'to', 'fake', 'ithis', 'final', 'dawnno', 'she', 'couldn', 'take', 'ithe', 'dies', 'in', 'painlonesome', 'and', 'coldhe', 'was', 'always', 'sanebut', 'never', 'toldthe', 'story', 'endsfor', 'the', 'prince', 'of', 'hatea', 'man', 'with', 'urgesno', 'one', 'could', 'sateher', 'eyes', 'like', 'the', 'seabright', 'blue', 'and', 'deepbut', 'containing', 'the', 'monsterswich', 'upon', 'him', 'would', 'creepanger', 'and', 'jealousyenvy', 'and', 'hate', 'they', 'all', 'worked', 'togetherand', 'sealed', 'his', 'fate'], ['still', 'have', 'hard', 'on', 'for', 'poetry', 'still', 'get', 'between', 'the', 'thighsfor', 'the', 'words', 'to', 'come', 'out', 'don', 'care', 'don', 'careif', 'the', 'public', 'doesn', 'like', 'the', 'smellnor', 'the', 'words', 'at', 'the', 'same', 'timewondering', 'why', 'the', 'danegets', 'jealous', 'and', 'walks', 'into', 'the', 'roomof', 'democracy', 'and', 'closes', 'the', 'doorof', 'reality', 'dims', 'the', 'light', 'of', 'time', 'asshe', 'falls', 'into', 'the', 'facial', 'book', 'of', 'illusion', 'is', 'she', 'counting', 'how', 'many', 'cool', 'friends', 'do', 'have', 'while', 'wondering', 'if', 'it', 'sall', 'about', 'being', 'cool', 'and', 'hype', 'as', 'the', 'world', 'of', 'pennyis', 'burning', 'up', 'in', 'flames', 'bythe', 'elite', 'clan', 'of', 'empoweredfear', 'and', 'immoral', 'greed', 'at', 'the', 'meantime', 'dear', 'mr', 'chinaski', 'want', 'you', 'to', 'know', 'thatyou', 're', 'good', 'enough', 'postman', 'patjust', 'like', 'me', 'in', 'the', 'post', 'office', 'because', 'when', 'all', 'comes', 'to', 'all', 'thesmell', 'of', 'normalityis', 'just', 'like', 'virgin', 'it', 'sjust', 'like', 'the', 'handcuffed', 'dreamslavery', 'and', 'it', 'smells', 'even', 'more', 'bitter', 'without', 'the', 'smell', 'we', 'could', 'have', 'been', 'so', 'cooland', 'so', 'hyped', 'and', 'even', 'got', 'outof', 'our', 'closet', 'disease', 'got', 'out', 'of', 'their', 'stupidity', 'vanity', 'and', 'married', 'withsimplicity', 'by', 'the', 'children', 'house', 'and', 'car', 'currency', 'we', 'could', 'as', 'well', 'had', 'been', 'blinddate', 'affair', 'from', 'the', 'socialbook', 'making', 'love', 'in', 'ourwildest', 'dreams', 'in', 'night', 'in', 'cheap', 'cheat', 'bonus', 'supermarket', 'as', 'two', 'john', 'does', 'instead', 'we', 'just', 'have', 'to', 'acceptthat', 'we', 'are', 'bums', 'and', 'you', 'are', 'just', 'aso', 'called', 'poet', 'friend', 'ofmine', 'reading', 'up', 'inmyspace', 'as', 'observe', 'the', 'soldier', 'his', 'wife', 'and', 'the', 'bum', 'soi', 'can', 'keep', 'on', 'looking', 'cool', 'andhyped', 'twirling', 'in', 'the', 'echo', 'ofmy', 'existence', 'in', 'my', 'bled', 'outhearted', 'country', 'but', 'still', 'witha', 'hard', 'on', 'for', 'poetry']]\n"
          ]
        }
      ]
    },
    {
      "cell_type": "code",
      "metadata": {
        "id": "wvASa_IVYgqk",
        "colab": {
          "base_uri": "https://localhost:8080/"
        },
        "outputId": "6999e792-7cb2-4016-fac7-6b77a694d237"
      },
      "source": [
        "bigram = gensim.models.Phrases(data_words, min_count=5, threshold=100)\n",
        "trigram = gensim.models.Phrases(bigram[data_words], threshold=100)  \n",
        "bigram_mod = gensim.models.phrases.Phraser(bigram)\n",
        "trigram_mod = gensim.models.phrases.Phraser(trigram)\n",
        "print(trigram_mod[bigram_mod[data_words[0]]])"
      ],
      "execution_count": 32,
      "outputs": [
        {
          "output_type": "stream",
          "name": "stderr",
          "text": [
            "/usr/local/lib/python3.7/dist-packages/gensim/models/phrases.py:598: UserWarning: For a faster implementation, use the gensim.models.phrases.Phraser class\n",
            "  warnings.warn(\"For a faster implementation, use the gensim.models.phrases.Phraser class\")\n"
          ]
        },
        {
          "output_type": "stream",
          "name": "stdout",
          "text": [
            "['love', 'is', 'the', 'one', 'the', 'greatest', 'teacher', 'of', 'all', 'by', 'confronting', 'our', 'pain', 'we', 'rise', 'from', 'the', 'fall', 'yes', 'hell', 'is', 'while', 'person', 'is', 'confronting', 'their', 'pain', 'as', 'they', 'gradually', 'return', 'to', 'the', 'celestial', 'lane', 'only', 'through', 'illusions', 'by', 'upholding', 'the', 'lie', 'are', 'we', 'disconnected', 'and', 'about', 'to', 'die', 'life', 'is', 'the', 'freedom', 'that', 'within', 'our', 'heart', 'flies', 'rejecting', 'the', 'greed', 'that', 'we', 'rationalize', 'rejecting', 'the', 'myths', 'that', 'are', 'born', 'from', 'fear', 'eternal', 'damnation', 'is', 'never', 'near', 'for', 'hell', 'is', 'while', 'person', 'is', 'confronting', 'their', 'pain', 'as', 'we', 'gradually', 'return', 'to', 'the', 'celestial', 'lane', 'what', 'by', 'our', 'blood', 'would', 'god', 'ever', 'gain', 'sending', 'his', 'children', 'to', 'bathe', 'in', 'eternal', 'fire', 'is', 'that', 'the', 'power', 'that', 'we', 'should', 'admire', 'no', 'this', 'is', 'an', 'image', 'that', 'tears', 'me', 'apart', 'can', 'feel', 'it', 'is', 'wrong', 'in', 'my', 'heart', 'for', 'would', 'then', 'have', 'more', 'love', 'within', 'me', 'more', 'then', 'could', 'find', 'in', 'all', 'eternity', 'no', 'life', 'is', 'the', 'freedom', 'that', 'within', 'our', 'heart', 'flies', 'rejecting', 'the', 'greed', 'that', 'we', 'rationalize', 'as', 'we', 'ourselves', 'do', 'hypnotize', 'caught', 'up', 'in', 'the', 'illusions', 'caught', 'up', 'in', 'the', 'lies', 'finding', 'our', 'power', 'that', 'awakens', 'from', 'within', 'as', 'love', 'does', 'appear', 'and', 'our', 'new', 'life', 'will', 'begin', 'for', 'they', 'reflect', 'from', 'our', 'hearts', 'as', 'we', 'dive', 'into', 'this', 'life', 'angels', 'or', 'demons', 'are', 'born', 'through', 'our', 'own', 'strife']\n"
          ]
        }
      ]
    },
    {
      "cell_type": "code",
      "metadata": {
        "id": "Uv147D3vYqgN"
      },
      "source": [
        "def remove_stopwords(texts):\n",
        "    return [[word for word in simple_preprocess(str(doc)) if word not in stop_words] for doc in texts]\n",
        "def make_bigrams(texts):\n",
        "    return [bigram_mod[doc] for doc in texts]\n",
        "def make_trigrams(texts):\n",
        "    return [trigram_mod[bigram_mod[doc]] for doc in texts]\n",
        "def lemmatization(texts, allowed_postags=['NOUN', 'ADJ', 'VERB', 'ADV']):\n",
        "    \"\"\"https://spacy.io/api/annotation\"\"\"\n",
        "    texts_out = []\n",
        "    for sent in texts:\n",
        "        doc = nlp(\" \".join(sent)) \n",
        "        texts_out.append([token.lemma_ for token in doc if token.pos_ in allowed_postags])\n",
        "    return texts_out"
      ],
      "execution_count": 33,
      "outputs": []
    },
    {
      "cell_type": "code",
      "metadata": {
        "id": "PFFaVWvIYwsa",
        "colab": {
          "base_uri": "https://localhost:8080/"
        },
        "outputId": "bbfb2f5a-1e1a-41ae-ff33-843bb9f07e8b"
      },
      "source": [
        "data_words_nostops = remove_stopwords(data_words)\n",
        "data_words_bigrams = make_bigrams(data_words_nostops)\n",
        "nlp = spacy.load('en', disable=['parser', 'ner'])\n",
        "# Do lemmatization keeping only noun, adj, vb, adv\n",
        "data_lemmatized = lemmatization(data_words_bigrams, allowed_postags=['NOUN', 'ADJ', 'VERB', 'ADV'])\n",
        "print(data_lemmatized[:1])"
      ],
      "execution_count": 34,
      "outputs": [
        {
          "output_type": "stream",
          "name": "stdout",
          "text": [
            "[['love', 'great', 'teacher', 'confront', 'pain', 'rise', 'fall', 'hell', 'person', 'confront', 'pain', 'gradually', 'return', 'celestial', 'lane', 'illusion', 'uphold', 'lie', 'disconnect', 'die', 'life', 'freedom', 'heart', 'fly', 'reject', 'reject', 'myth', 'bear', 'fear', 'eternal', 'damnation', 'never', 'person', 'confront', 'pain', 'gradually', 'return', 'celestial', 'lane', 'blood', 'would', 'ever', 'gain', 'send', 'child', 'bathe', 'eternal', 'fire', 'power', 'admire', 'image', 'tear', 'apart', 'feel', 'wrong', 'heart', 'would', 'love', 'could', 'find', 'eternity', 'life', 'freedom', 'heart', 'fly', 'reject', 'catch', 'illusion', 'catch', 'lie', 'find', 'power', 'awaken', 'love', 'appear', 'new', 'life', 'begin', 'reflect', 'heart', 'dive', 'life', 'angel', 'demon', 'bear', 'strife']]\n"
          ]
        }
      ]
    },
    {
      "cell_type": "code",
      "metadata": {
        "id": "TOKWK3ZuY4xm",
        "colab": {
          "base_uri": "https://localhost:8080/"
        },
        "outputId": "b0ea8663-7d90-4c15-c58a-acd054d346be"
      },
      "source": [
        "id2word = corpora.Dictionary(data_lemmatized)\n",
        "texts = data_lemmatized\n",
        "corpus = [id2word.doc2bow(text) for text in texts]\n",
        "print(corpus[:1])"
      ],
      "execution_count": 35,
      "outputs": [
        {
          "output_type": "stream",
          "name": "stdout",
          "text": [
            "[[(0, 1), (1, 1), (2, 1), (3, 1), (4, 1), (5, 1), (6, 2), (7, 1), (8, 1), (9, 2), (10, 2), (11, 1), (12, 3), (13, 1), (14, 1), (15, 1), (16, 1), (17, 1), (18, 1), (19, 2), (20, 1), (21, 1), (22, 1), (23, 1), (24, 1), (25, 2), (26, 1), (27, 2), (28, 2), (29, 1), (30, 2), (31, 1), (32, 4), (33, 1), (34, 2), (35, 1), (36, 2), (37, 2), (38, 4), (39, 3), (40, 1), (41, 1), (42, 1), (43, 3), (44, 2), (45, 2), (46, 1), (47, 3), (48, 2), (49, 1), (50, 1), (51, 1), (52, 1), (53, 1), (54, 1), (55, 2), (56, 1)]]\n"
          ]
        }
      ]
    },
    {
      "cell_type": "code",
      "metadata": {
        "id": "R4iTfO5FZN9P"
      },
      "source": [
        "[[(id2word[id], freq) for id, freq in cp] for cp in corpus[:1]]"
      ],
      "execution_count": null,
      "outputs": []
    },
    {
      "cell_type": "code",
      "metadata": {
        "id": "otiESoiUZRp-"
      },
      "source": [
        "lda_model = gensim.models.ldamodel.LdaModel(corpus=corpus,\n",
        "                                           id2word=id2word,\n",
        "                                           num_topics=14, \n",
        "                                           random_state=100,\n",
        "                                           update_every=1,\n",
        "                                           chunksize=100,\n",
        "                                           passes=10,\n",
        "                                           alpha='auto',\n",
        "                                           per_word_topics=True)"
      ],
      "execution_count": 36,
      "outputs": []
    },
    {
      "cell_type": "code",
      "metadata": {
        "id": "oWQPyxX3ZXj_",
        "colab": {
          "base_uri": "https://localhost:8080/"
        },
        "outputId": "b1508875-0939-4ece-c8bd-40935c376a55"
      },
      "source": [
        "lda_model.print_topics()"
      ],
      "execution_count": 37,
      "outputs": [
        {
          "output_type": "execute_result",
          "data": {
            "text/plain": [
              "[(0,\n",
              "  '0.038*\"rain\" + 0.023*\"shall\" + 0.020*\"next\" + 0.019*\"friend\" + 0.015*\"regret\" + 0.015*\"baby\" + 0.014*\"pay\" + 0.013*\"tight\" + 0.010*\"ahead\" + 0.010*\"funny\"'),\n",
              " (1,\n",
              "  '0.025*\"together\" + 0.024*\"love\" + 0.022*\"shit\" + 0.020*\"other\" + 0.020*\"miss\" + 0.019*\"truth\" + 0.017*\"belive\" + 0.016*\"save\" + 0.013*\"blame\" + 0.011*\"asleep\"'),\n",
              " (2,\n",
              "  '0.065*\"kill\" + 0.039*\"sad\" + 0.023*\"blind\" + 0.017*\"stupid\" + 0.016*\"mad\" + 0.015*\"drink\" + 0.014*\"let\" + 0.012*\"tie\" + 0.012*\"cover\" + 0.012*\"see\"'),\n",
              " (3,\n",
              "  '0.032*\"love\" + 0.026*\"go\" + 0.025*\"know\" + 0.025*\"see\" + 0.024*\"feel\" + 0.018*\"never\" + 0.017*\"want\" + 0.017*\"life\" + 0.017*\"heart\" + 0.015*\"say\"'),\n",
              " (4,\n",
              "  '0.018*\"great\" + 0.014*\"worry\" + 0.012*\"point\" + 0.011*\"around\" + 0.010*\"wheyting\" + 0.009*\"existence\" + 0.009*\"car\" + 0.009*\"teach\" + 0.009*\"accept\" + 0.008*\"colour\"'),\n",
              " (5,\n",
              "  '0.085*\"make\" + 0.023*\"let\" + 0.020*\"stay\" + 0.019*\"cold\" + 0.018*\"light\" + 0.016*\"watch\" + 0.014*\"help\" + 0.014*\"darkness\" + 0.012*\"angel\" + 0.012*\"night\"'),\n",
              " (6,\n",
              "  '0.024*\"laugh\" + 0.017*\"emotion\" + 0.016*\"reality\" + 0.014*\"black\" + 0.014*\"air\" + 0.013*\"sadness\" + 0.012*\"wall\" + 0.011*\"lay\" + 0.011*\"smell\" + 0.010*\"fill\"'),\n",
              " (7,\n",
              "  '0.028*\"noone\" + 0.019*\"fun\" + 0.017*\"search\" + 0.013*\"sea\" + 0.013*\"truly\" + 0.012*\"tired\" + 0.011*\"stop\" + 0.010*\"desert\" + 0.009*\"less\" + 0.008*\"sink\"'),\n",
              " (8,\n",
              "  '0.024*\"meet\" + 0.022*\"rule\" + 0.017*\"ad\" + 0.016*\"allway\" + 0.013*\"ride\" + 0.012*\"stone\" + 0.010*\"road\" + 0.010*\"failure\" + 0.009*\"longer\" + 0.008*\"fantasy\"'),\n",
              " (9,\n",
              "  '0.024*\"step\" + 0.022*\"voice\" + 0.017*\"beat\" + 0.015*\"whisper\" + 0.014*\"dirty\" + 0.013*\"little\" + 0.013*\"fragile\" + 0.012*\"hero\" + 0.012*\"sand\" + 0.012*\"first\"'),\n",
              " (10,\n",
              "  '0.096*\"hate\" + 0.020*\"listen\" + 0.018*\"guess\" + 0.016*\"poet\" + 0.015*\"one\" + 0.014*\"person\" + 0.014*\"fool\" + 0.010*\"ear\" + 0.009*\"chance\" + 0.008*\"question\"'),\n",
              " (11,\n",
              "  '0.045*\"bad\" + 0.031*\"stop\" + 0.020*\"put\" + 0.019*\"kind\" + 0.018*\"sky\" + 0.017*\"new\" + 0.015*\"lot\" + 0.014*\"sun\" + 0.013*\"like\" + 0.012*\"sleep\"'),\n",
              " (12,\n",
              "  '0.036*\"name\" + 0.032*\"do\" + 0.019*\"game\" + 0.018*\"glass\" + 0.014*\"man\" + 0.010*\"lose\" + 0.009*\"control\" + 0.009*\"devil\" + 0.007*\"win\" + 0.007*\"rhyme\"'),\n",
              " (13,\n",
              "  '0.040*\"free\" + 0.025*\"mistake\" + 0.024*\"beautiful\" + 0.022*\"thank\" + 0.021*\"line\" + 0.017*\"picture\" + 0.017*\"skin\" + 0.012*\"happiness\" + 0.012*\"shake\" + 0.011*\"sick\"')]"
            ]
          },
          "metadata": {},
          "execution_count": 37
        }
      ]
    },
    {
      "cell_type": "code",
      "metadata": {
        "colab": {
          "base_uri": "https://localhost:8080/"
        },
        "id": "XyAJUTVXZwR9",
        "outputId": "bb1ffc12-fc6c-4cf0-8ed9-6fc59bd10684"
      },
      "source": [
        "# Compute Perplexity\n",
        "print('\\nPerplexity: ', lda_model.log_perplexity(corpus))  # a measure of how good the model is. lower the better.\n",
        "# Compute Coherence Score\n",
        "coherence_model_lda = CoherenceModel(model=lda_model, texts=data_lemmatized, dictionary=id2word, coherence='c_v')\n",
        "coherence_lda = coherence_model_lda.get_coherence()\n",
        "print('\\nCoherence Score: ', coherence_lda)"
      ],
      "execution_count": 38,
      "outputs": [
        {
          "output_type": "stream",
          "name": "stdout",
          "text": [
            "\n",
            "Perplexity:  -7.630213566257303\n",
            "\n",
            "Coherence Score:  0.48973702490014437\n"
          ]
        }
      ]
    }
  ]
}