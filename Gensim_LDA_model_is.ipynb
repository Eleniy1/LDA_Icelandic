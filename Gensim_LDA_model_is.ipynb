{
  "nbformat": 4,
  "nbformat_minor": 0,
  "metadata": {
    "colab": {
      "name": "Gensim LDA model is.ipynb",
      "provenance": [],
      "collapsed_sections": [],
      "authorship_tag": "ABX9TyPZakgnscwGEU4K2MwghmBG",
      "include_colab_link": true
    },
    "kernelspec": {
      "name": "python3",
      "display_name": "Python 3"
    },
    "language_info": {
      "name": "python"
    }
  },
  "cells": [
    {
      "cell_type": "markdown",
      "metadata": {
        "id": "view-in-github",
        "colab_type": "text"
      },
      "source": [
        "<a href=\"https://colab.research.google.com/github/Eleniy1/LDA_Icelandic/blob/main/Gensim_LDA_model_is.ipynb\" target=\"_parent\"><img src=\"https://colab.research.google.com/assets/colab-badge.svg\" alt=\"Open In Colab\"/></a>"
      ]
    },
    {
      "cell_type": "code",
      "metadata": {
        "id": "ayfQXxR-mnk0"
      },
      "source": [
        "s = open(\"all_stop_words.txt\")\n",
        "stop_words = [line.strip() for line in s]\n",
        "print(stop_words)"
      ],
      "execution_count": null,
      "outputs": []
    },
    {
      "cell_type": "code",
      "metadata": {
        "id": "4XfPEfwWNdDN"
      },
      "source": [
        "import re\n",
        "import numpy as np\n",
        "from pprint import pprint"
      ],
      "execution_count": null,
      "outputs": []
    },
    {
      "cell_type": "code",
      "metadata": {
        "id": "esQba1gbNldk"
      },
      "source": [
        "import gensim\n",
        "import gensim.corpora as corpora\n",
        "from gensim.utils import simple_preprocess\n",
        "from gensim.models import CoherenceModel"
      ],
      "execution_count": null,
      "outputs": []
    },
    {
      "cell_type": "code",
      "metadata": {
        "id": "8HBmRJEGNsak"
      },
      "source": [
        "import spacy"
      ],
      "execution_count": null,
      "outputs": []
    },
    {
      "cell_type": "code",
      "metadata": {
        "id": "btiJWL8gNy2b"
      },
      "source": [
        "!pip install pyLDAvis"
      ],
      "execution_count": null,
      "outputs": []
    },
    {
      "cell_type": "code",
      "metadata": {
        "id": "eWwNM36sN5Vr"
      },
      "source": [
        "! pip install gensim"
      ],
      "execution_count": null,
      "outputs": []
    },
    {
      "cell_type": "code",
      "metadata": {
        "id": "M-DG3qcLN9WJ"
      },
      "source": [
        "import pyLDAvis\n",
        "import matplotlib.pyplot as plt"
      ],
      "execution_count": null,
      "outputs": []
    },
    {
      "cell_type": "code",
      "metadata": {
        "id": "w7vJ645mN_54"
      },
      "source": [
        "import pyLDAvis.gensim_models as gensimvis\n",
        "pyLDAvis.enable_notebook()"
      ],
      "execution_count": null,
      "outputs": []
    },
    {
      "cell_type": "code",
      "metadata": {
        "id": "e2NEI0GdOCmd"
      },
      "source": [
        "import logging\n",
        "logging.basicConfig(format='%(asctime)s : %(levelname)s : %(message)s', level=logging.ERROR)"
      ],
      "execution_count": null,
      "outputs": []
    },
    {
      "cell_type": "code",
      "metadata": {
        "id": "2oqsCo6rOGG8"
      },
      "source": [
        "import warnings\n",
        "warnings.filterwarnings(\"ignore\",category=DeprecationWarning)"
      ],
      "execution_count": null,
      "outputs": []
    },
    {
      "cell_type": "code",
      "metadata": {
        "id": "uQSo6kUJOJea"
      },
      "source": [
        "df = pd.read_csv('poems_is_tagged.csv')\n",
        "print(df.lemmat_text)\n",
        "df.head()"
      ],
      "execution_count": null,
      "outputs": []
    },
    {
      "cell_type": "code",
      "metadata": {
        "id": "rfZRgKjnO_ym"
      },
      "source": [
        "def sent_to_words(sentences):\n",
        "    for sentence in sentences:\n",
        "        yield(gensim.utils.simple_preprocess(str(sentence), deacc=True)) \n",
        "data_words = list(sent_to_words(df.lemmat_text))\n",
        "print(data_words[:10])"
      ],
      "execution_count": null,
      "outputs": []
    },
    {
      "cell_type": "code",
      "metadata": {
        "id": "tNuJtfIkPQt_"
      },
      "source": [
        "bigram = gensim.models.Phrases(data_words, min_count=5, threshold=100)\n",
        "trigram = gensim.models.Phrases(bigram[data_words], threshold=100)  \n",
        "bigram_mod = gensim.models.phrases.Phraser(bigram)\n",
        "trigram_mod = gensim.models.phrases.Phraser(trigram)\n",
        "print(trigram_mod[bigram_mod[data_words[0]]])"
      ],
      "execution_count": null,
      "outputs": []
    },
    {
      "cell_type": "code",
      "metadata": {
        "id": "6tWxJHHJPlpc"
      },
      "source": [
        "def remove_stopwords(texts):\n",
        "    return [[word for word in simple_preprocess(str(doc)) if word not in stop_words] for doc in texts]\n",
        "def make_bigrams(texts):\n",
        "    return [bigram_mod[doc] for doc in texts]\n",
        "def make_trigrams(texts):\n",
        "    return [trigram_mod[bigram_mod[doc]] for doc in texts]\n",
        "def lemmatization(texts, allowed_postags=['NOUN', 'ADJ', 'VERB', 'ADV']):\n",
        "    \"\"\"https://spacy.io/api/annotation\"\"\"\n",
        "    texts_out = []\n",
        "    for sent in texts:\n",
        "        doc = nlp(\" \".join(sent)) \n",
        "        texts_out.append([token.lemma_ for token in doc if token.pos_ in allowed_postags])\n",
        "    return texts_out"
      ],
      "execution_count": null,
      "outputs": []
    },
    {
      "cell_type": "code",
      "metadata": {
        "id": "iNIGK9k2Pm7y"
      },
      "source": [
        "data_words_nostops = remove_stopwords(data_words)"
      ],
      "execution_count": null,
      "outputs": []
    },
    {
      "cell_type": "code",
      "metadata": {
        "id": "18KFki_4P29_"
      },
      "source": [
        "data_words_bigrams = make_bigrams(data_words_nostops)"
      ],
      "execution_count": null,
      "outputs": []
    },
    {
      "cell_type": "code",
      "metadata": {
        "id": "gPo2LfwhQAwo"
      },
      "source": [
        "id2word = corpora.Dictionary(data_words_bigrams)\n",
        "texts = data_words_bigrams\n",
        "corpus = [id2word.doc2bow(text) for text in texts]\n",
        "print(corpus[:1])"
      ],
      "execution_count": null,
      "outputs": []
    },
    {
      "cell_type": "code",
      "metadata": {
        "id": "PZGEufkAQrdi"
      },
      "source": [
        "id2word[0]"
      ],
      "execution_count": null,
      "outputs": []
    },
    {
      "cell_type": "code",
      "metadata": {
        "id": "OfiT5jI_Qwz_"
      },
      "source": [
        "[[(id2word[id], freq) for id, freq in cp] for cp in corpus[:1]]"
      ],
      "execution_count": null,
      "outputs": []
    },
    {
      "cell_type": "code",
      "metadata": {
        "id": "k_r_p-XFQz-a"
      },
      "source": [
        "lda_model = gensim.models.ldamodel.LdaModel(corpus=corpus,\n",
        "                                           id2word=id2word,\n",
        "                                           num_topics=15, \n",
        "                                           random_state=100,\n",
        "                                           update_every=1,\n",
        "                                           chunksize=100,\n",
        "                                           passes=10,\n",
        "                                           alpha='auto',\n",
        "                                           per_word_topics=True)"
      ],
      "execution_count": null,
      "outputs": []
    },
    {
      "cell_type": "code",
      "metadata": {
        "id": "CGqQ67UlQ8CD",
        "colab": {
          "base_uri": "https://localhost:8080/"
        },
        "outputId": "531c38e9-acee-4d5a-f50c-9bec48409853"
      },
      "source": [
        "lda_model.print_topics()"
      ],
      "execution_count": null,
      "outputs": [
        {
          "output_type": "execute_result",
          "data": {
            "text/plain": [
              "[(0,\n",
              "  '0.012*\"kenna\" + 0.012*\"haust\" + 0.011*\"heiður\" + 0.011*\"jafnvel\" + 0.011*\"lausnari\" + 0.010*\"svoddan\" + 0.009*\"miskunn\" + 0.009*\"gull\" + 0.008*\"lina\" + 0.007*\"sæla\"'),\n",
              " (1,\n",
              "  '0.031*\"jesu\" + 0.024*\"burt\" + 0.020*\"fljuga\" + 0.015*\"ver\" + 0.013*\"blar\" + 0.008*\"frjals\" + 0.006*\"fastur\" + 0.006*\"þoka\" + 0.006*\"ræða\" + 0.006*\"hestur\"'),\n",
              " (2,\n",
              "  '0.009*\"tyndur\" + 0.008*\"pæla\" + 0.008*\"kristni\" + 0.006*\"sprettur\" + 0.006*\"snura\" + 0.005*\"sorry\" + 0.005*\"heiðingi\" + 0.005*\"mur\" + 0.005*\"bugur\" + 0.005*\"hrina\"'),\n",
              " (3,\n",
              "  '0.018*\"hugsun\" + 0.018*\"þogn\" + 0.018*\"grænn\" + 0.016*\"loksins\" + 0.012*\"ga\" + 0.010*\"skjol\" + 0.009*\"fri\" + 0.007*\"gulur\" + 0.007*\"heimskur\" + 0.006*\"viða\"'),\n",
              " (4,\n",
              "  '0.043*\"guð\" + 0.017*\"herra\" + 0.016*\"barn\" + 0.014*\"skulu\" + 0.012*\"vinna\" + 0.011*\"kunna\" + 0.011*\"land\" + 0.010*\"kona\" + 0.009*\"kross\" + 0.009*\"hold\"'),\n",
              " (5,\n",
              "  '0.023*\"skina\" + 0.014*\"vin\" + 0.013*\"sætur\" + 0.013*\"gleðja\" + 0.012*\"eyða\" + 0.012*\"stoll\" + 0.012*\"þakka\" + 0.010*\"petur\" + 0.008*\"kvelja\" + 0.007*\"band\"'),\n",
              " (6,\n",
              "  '0.021*\"syngja\" + 0.018*\"gjora\" + 0.016*\"fugl\" + 0.013*\"sannur\" + 0.013*\"hlusta\" + 0.010*\"læra\" + 0.009*\"sjor\" + 0.009*\"njota\" + 0.009*\"snjor\" + 0.008*\"finn\"'),\n",
              " (7,\n",
              "  '0.030*\"sol\" + 0.028*\"ljos\" + 0.028*\"myrkur\" + 0.016*\"leita\" + 0.015*\"vegur\" + 0.014*\"bjartur\" + 0.013*\"hægur\" + 0.012*\"hlið\" + 0.011*\"birta\" + 0.011*\"stjarna\"'),\n",
              " (8,\n",
              "  '0.018*\"verða\" + 0.018*\"koma\" + 0.016*\"fara\" + 0.015*\"geta\" + 0.015*\"sja\" + 0.014*\"lif\" + 0.014*\"her\" + 0.013*\"segja\" + 0.013*\"finna\" + 0.012*\"maður\"'),\n",
              " (9,\n",
              "  '0.019*\"synda\" + 0.009*\"hurð\" + 0.007*\"hellir\" + 0.007*\"þurrka\" + 0.007*\"ovinur\" + 0.006*\"demantur\" + 0.005*\"helja\" + 0.005*\"draumaheimur\" + 0.005*\"oveður\" + 0.005*\"kafna\"'),\n",
              " (10,\n",
              "  '0.017*\"stulka\" + 0.014*\"bær\" + 0.012*\"gras\" + 0.012*\"kennari\" + 0.011*\"risa\" + 0.010*\"teygja\" + 0.010*\"sofna\" + 0.008*\"alda\" + 0.007*\"ro\" + 0.007*\"hylja\"'),\n",
              " (11,\n",
              "  '0.030*\"auga\" + 0.023*\"sal\" + 0.020*\"ur\" + 0.018*\"nott\" + 0.015*\"drottinn\" + 0.014*\"himinn\" + 0.012*\"jorð\" + 0.012*\"hond\" + 0.011*\"draumur\" + 0.011*\"dauði\"'),\n",
              " (12,\n",
              "  '0.026*\"heilagur\" + 0.017*\"mold\" + 0.016*\"is\" + 0.009*\"solargeisli\" + 0.005*\"væta\" + 0.005*\"lon\" + 0.005*\"salur\" + 0.004*\"soja\" + 0.003*\"all\" + 0.003*\"so\"'),\n",
              " (13,\n",
              "  '0.016*\"rigna\" + 0.011*\"holl\" + 0.009*\"vina\" + 0.009*\"auðn\" + 0.008*\"siga\" + 0.007*\"mark\" + 0.006*\"ma\" + 0.006*\"syngjandi\" + 0.006*\"iðra\" + 0.005*\"feykja\"'),\n",
              " (14,\n",
              "  '0.021*\"tre\" + 0.021*\"fotur\" + 0.016*\"hamingja\" + 0.014*\"bratt\" + 0.011*\"vaxa\" + 0.010*\"hvila\" + 0.010*\"afhverju\" + 0.010*\"vara\" + 0.010*\"blessaður\" + 0.009*\"vangi\"')]"
            ]
          },
          "metadata": {},
          "execution_count": 21
        }
      ]
    },
    {
      "cell_type": "code",
      "metadata": {
        "id": "_k6IuzG7YBkN"
      },
      "source": [
        "print('\\nPerplexity: ', lda_model.log_perplexity(corpus))\n",
        "coherence_model_lda = CoherenceModel(model=lda_model, texts=data_words_bigrams, dictionary=id2word, coherence='c_v')\n",
        "coherence_lda = coherence_model_lda.get_coherence()\n",
        "print('\\nCoherence Score: ', coherence_lda)"
      ],
      "execution_count": null,
      "outputs": []
    },
    {
      "cell_type": "code",
      "metadata": {
        "id": "oFgpoD3L2JUi"
      },
      "source": [
        "! wget http://mallet.cs.umass.edu/dist/mallet-2.0.8.zip"
      ],
      "execution_count": null,
      "outputs": []
    },
    {
      "cell_type": "code",
      "metadata": {
        "id": "s6UwY7TR3eXC"
      },
      "source": [
        "!unzip mallet-2.0.8.zip"
      ],
      "execution_count": null,
      "outputs": []
    },
    {
      "cell_type": "code",
      "metadata": {
        "id": "aiJ9RsnR447D"
      },
      "source": [
        "mallet_path = '/content/mallet-2.0.8/bin/mallet'\n",
        "ldamallet = gensim.models.wrappers.LdaMallet(mallet_path, corpus=corpus, num_topics=16, id2word=id2word)"
      ],
      "execution_count": null,
      "outputs": []
    },
    {
      "cell_type": "code",
      "metadata": {
        "id": "dC7QMEN24-j2"
      },
      "source": [
        "pprint(ldamallet.show_topics(formatted=False))\n",
        "coherence_model_ldamallet = CoherenceModel(model=ldamallet, texts=data_words_bigrams, dictionary=id2word, coherence='c_v')\n",
        "coherence_ldamallet = coherence_model_ldamallet.get_coherence()\n",
        "print('\\nCoherence Score: ', coherence_ldamallet)"
      ],
      "execution_count": null,
      "outputs": []
    },
    {
      "cell_type": "code",
      "metadata": {
        "id": "GfVQLda75ERr"
      },
      "source": [
        "def compute_coherence_values(dictionary, corpus, text, limit, start=2, step=3):\n",
        "    \"\"\"\n",
        "    Compute c_v coherence for various number of topics\n",
        "    Parameters:\n",
        "    ----------\n",
        "    dictionary : Gensim dictionary\n",
        "    corpus : Gensim corpus\n",
        "    texts : List of input texts\n",
        "    limit : Max num of topics\n",
        "    Returns:\n",
        "    -------\n",
        "    model_list : List of LDA topic models\n",
        "    coherence_values : Coherence values corresponding to the LDA model with respective number of topics\n",
        "    \"\"\"\n",
        "    coherence_values = []\n",
        "    model_list = []\n",
        "    for num_topics in range(start, limit, step):\n",
        "        model = gensim.models.wrappers.LdaMallet(mallet_path, corpus=corpus, num_topics=num_topics, id2word=id2word)\n",
        "        model_list.append(model)\n",
        "        coherencemodel = CoherenceModel(model=model, texts=data_words_bigrams, dictionary=dictionary, coherence='c_v')\n",
        "        coherence_values.append(coherencemodel.get_coherence())\n",
        "    return model_list, coherence_values"
      ],
      "execution_count": null,
      "outputs": []
    },
    {
      "cell_type": "code",
      "metadata": {
        "id": "HmKPjNpR5HRI"
      },
      "source": [
        "model_list, coherence_values = compute_coherence_values(dictionary=id2word, corpus=corpus, texts=data_words_bigrams, start=2, limit=40, step=6)"
      ],
      "execution_count": null,
      "outputs": []
    },
    {
      "cell_type": "code",
      "metadata": {
        "id": "pjj1wOUz5KTT"
      },
      "source": [
        "limit=40; start=2; step=6;\n",
        "x = range(start, limit, step)\n",
        "plt.plot(x, coherence_values)\n",
        "plt.xlabel(\"Num Topics\")\n",
        "plt.ylabel(\"Coherence score\")\n",
        "plt.legend((\"coherence_values\"), loc='best')\n",
        "plt.show()"
      ],
      "execution_count": null,
      "outputs": []
    },
    {
      "cell_type": "code",
      "metadata": {
        "id": "0InaxT0s6NAa"
      },
      "source": [
        "pprint(ldamallet.print_topics(num_words=10))"
      ],
      "execution_count": null,
      "outputs": []
    },
    {
      "cell_type": "code",
      "metadata": {
        "id": "ihDfykuy6Pth"
      },
      "source": [
        "def format_topics_sentences(ldamodel=lda_model, corpus=corpus, texts=data_words_bigrams):\n",
        "    sent_topics_df = pd.DataFrame()\n",
        "    for i, row in enumerate(ldamodel[corpus]):\n",
        "        row = sorted(row, key=lambda x: (x[1]), reverse=True)\n",
        "        for j, (topic_num, prop_topic) in enumerate(row):\n",
        "            if j == 0:  # => dominant topic\n",
        "                wp = ldamodel.show_topic(topic_num)\n",
        "                topic_keywords = \", \".join([word for word, prop in wp])\n",
        "                sent_topics_df = sent_topics_df.append(pd.Series([int(topic_num), round(prop_topic,4), topic_keywords]), ignore_index=True)\n",
        "            else:\n",
        "                break\n",
        "    sent_topics_df.columns = ['Dominant_Topic', 'Perc_Contribution', 'Topic_Keywords']\n",
        "    contents = pd.Series(texts)\n",
        "    sent_topics_df = pd.concat([sent_topics_df, contents], axis=1)\n",
        "    return(sent_topics_df)\n",
        "df_topic_sents_keywords = format_topics_sentences(ldamodel=ldamallet, corpus=corpus, texts=data_words_bigrams)\n",
        "df_dominant_topic = df_topic_sents_keywords.reset_index()\n",
        "df_dominant_topic.columns = ['Document_No', 'Dominant_Topic', 'Topic_Perc_Contrib', 'Keywords', 'Text']\n",
        "df_dominant_topic.head(10)\n",
        "df_dominant_topic.Dominant_Topic"
      ],
      "execution_count": null,
      "outputs": []
    },
    {
      "cell_type": "code",
      "metadata": {
        "id": "deeq4LPpxVk4"
      },
      "source": [
        "#!pip uninstall pandas\n",
        "!pip install pandas==1.1.5\n",
        "import pandas as pd"
      ],
      "execution_count": null,
      "outputs": []
    },
    {
      "cell_type": "code",
      "metadata": {
        "id": "xdIM6wy6K1vT"
      },
      "source": [
        "df_dominant_topic.to_csv(\"icelandic_topics.csv\", index=False)"
      ],
      "execution_count": null,
      "outputs": []
    },
    {
      "cell_type": "code",
      "metadata": {
        "id": "Li33aTB3Lbyo"
      },
      "source": [
        "df2 = pd.read_csv(\"icelandic_topics.csv\")\n",
        "df2"
      ],
      "execution_count": null,
      "outputs": []
    }
  ]
}