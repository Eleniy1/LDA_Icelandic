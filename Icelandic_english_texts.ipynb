{
  "nbformat": 4,
  "nbformat_minor": 0,
  "metadata": {
    "colab": {
      "name": "Icelandic-english  texts.ipynb",
      "provenance": [],
      "collapsed_sections": [],
      "authorship_tag": "ABX9TyOyImNDfFnDcsyMx68vwruU",
      "include_colab_link": true
    },
    "kernelspec": {
      "name": "python3",
      "display_name": "Python 3"
    },
    "language_info": {
      "name": "python"
    }
  },
  "cells": [
    {
      "cell_type": "markdown",
      "metadata": {
        "id": "view-in-github",
        "colab_type": "text"
      },
      "source": [
        "<a href=\"https://colab.research.google.com/github/Eleniy1/LDA_Icelandic/blob/main/Icelandic_english_texts.ipynb\" target=\"_parent\"><img src=\"https://colab.research.google.com/assets/colab-badge.svg\" alt=\"Open In Colab\"/></a>"
      ]
    },
    {
      "cell_type": "code",
      "metadata": {
        "id": "gIR7eS71o2qq"
      },
      "source": [
        "import pandas as pd\n",
        "import re"
      ],
      "execution_count": null,
      "outputs": []
    },
    {
      "cell_type": "code",
      "metadata": {
        "colab": {
          "base_uri": "https://localhost:8080/",
          "height": 419
        },
        "id": "JrldRKwgo5-X",
        "outputId": "e565ecb0-7188-4ece-e04d-83c863112f5b"
      },
      "source": [
        "df = pd.read_csv(\"ALL_hugi.is.poems.csv\")\n",
        "df\n"
      ],
      "execution_count": null,
      "outputs": [
        {
          "output_type": "execute_result",
          "data": {
            "text/html": [
              "<div>\n",
              "<style scoped>\n",
              "    .dataframe tbody tr th:only-of-type {\n",
              "        vertical-align: middle;\n",
              "    }\n",
              "\n",
              "    .dataframe tbody tr th {\n",
              "        vertical-align: top;\n",
              "    }\n",
              "\n",
              "    .dataframe thead th {\n",
              "        text-align: right;\n",
              "    }\n",
              "</style>\n",
              "<table border=\"1\" class=\"dataframe\">\n",
              "  <thead>\n",
              "    <tr style=\"text-align: right;\">\n",
              "      <th></th>\n",
              "      <th>text</th>\n",
              "      <th>age</th>\n",
              "      <th>sex</th>\n",
              "      <th>poem_date</th>\n",
              "    </tr>\n",
              "  </thead>\n",
              "  <tbody>\n",
              "    <tr>\n",
              "      <th>0</th>\n",
              "      <td>orð vitundar, vinar lykill Vinar lykill Vegur ...</td>\n",
              "      <td>NaN</td>\n",
              "      <td>NaN</td>\n",
              "      <td>28. jún 2016</td>\n",
              "    </tr>\n",
              "    <tr>\n",
              "      <th>1</th>\n",
              "      <td>Desember dimman dregur mig inn í ljósin og yl ...</td>\n",
              "      <td>NaN</td>\n",
              "      <td>NaN</td>\n",
              "      <td>15. des 2015</td>\n",
              "    </tr>\n",
              "    <tr>\n",
              "      <th>2</th>\n",
              "      <td>Léttfættur í stígvélunum gengur til vinnu sérh...</td>\n",
              "      <td>NaN</td>\n",
              "      <td>NaN</td>\n",
              "      <td>30. maí 2015</td>\n",
              "    </tr>\n",
              "    <tr>\n",
              "      <th>3</th>\n",
              "      <td>Hugprúða frostrós fannhvíti hugur. Fimm lítil ...</td>\n",
              "      <td>NaN</td>\n",
              "      <td>NaN</td>\n",
              "      <td>6. mar 2015</td>\n",
              "    </tr>\n",
              "    <tr>\n",
              "      <th>4</th>\n",
              "      <td>Flaugst í hjartað mitt litli rauðbrystingur. B...</td>\n",
              "      <td>NaN</td>\n",
              "      <td>NaN</td>\n",
              "      <td>3. jan 2015</td>\n",
              "    </tr>\n",
              "    <tr>\n",
              "      <th>...</th>\n",
              "      <td>...</td>\n",
              "      <td>...</td>\n",
              "      <td>...</td>\n",
              "      <td>...</td>\n",
              "    </tr>\n",
              "    <tr>\n",
              "      <th>8288</th>\n",
              "      <td>LjóðLassi er kassiog algjör massienda reykir h...</td>\n",
              "      <td>NaN</td>\n",
              "      <td>NaN</td>\n",
              "      <td>25. nóv 2000</td>\n",
              "    </tr>\n",
              "    <tr>\n",
              "      <th>8289</th>\n",
              "      <td>Hérna er eitt sem ég samdi þegar ég var 14 ára...</td>\n",
              "      <td>48.0</td>\n",
              "      <td>kvenmaður</td>\n",
              "      <td>24. nóv 2000</td>\n",
              "    </tr>\n",
              "    <tr>\n",
              "      <th>8290</th>\n",
              "      <td>Það hlýtur nú að vera í lagi að gera smá Cut A...</td>\n",
              "      <td>NaN</td>\n",
              "      <td>NaN</td>\n",
              "      <td>24. nóv 2000</td>\n",
              "    </tr>\n",
              "    <tr>\n",
              "      <th>8291</th>\n",
              "      <td>nóttin fyllist af draumumog án þess að snerta ...</td>\n",
              "      <td>NaN</td>\n",
              "      <td>NaN</td>\n",
              "      <td>24. nóv 2000</td>\n",
              "    </tr>\n",
              "    <tr>\n",
              "      <th>8292</th>\n",
              "      <td>Einhvern tíman fyrir langa löngu sendi ég þett...</td>\n",
              "      <td>NaN</td>\n",
              "      <td>NaN</td>\n",
              "      <td>24. nóv 2000</td>\n",
              "    </tr>\n",
              "  </tbody>\n",
              "</table>\n",
              "<p>8293 rows × 4 columns</p>\n",
              "</div>"
            ],
            "text/plain": [
              "                                                   text  ...     poem_date\n",
              "0     orð vitundar, vinar lykill Vinar lykill Vegur ...  ...  28. jún 2016\n",
              "1     Desember dimman dregur mig inn í ljósin og yl ...  ...  15. des 2015\n",
              "2     Léttfættur í stígvélunum gengur til vinnu sérh...  ...  30. maí 2015\n",
              "3     Hugprúða frostrós fannhvíti hugur. Fimm lítil ...  ...   6. mar 2015\n",
              "4     Flaugst í hjartað mitt litli rauðbrystingur. B...  ...   3. jan 2015\n",
              "...                                                 ...  ...           ...\n",
              "8288  LjóðLassi er kassiog algjör massienda reykir h...  ...  25. nóv 2000\n",
              "8289  Hérna er eitt sem ég samdi þegar ég var 14 ára...  ...  24. nóv 2000\n",
              "8290  Það hlýtur nú að vera í lagi að gera smá Cut A...  ...  24. nóv 2000\n",
              "8291  nóttin fyllist af draumumog án þess að snerta ...  ...  24. nóv 2000\n",
              "8292  Einhvern tíman fyrir langa löngu sendi ég þett...  ...  24. nóv 2000\n",
              "\n",
              "[8293 rows x 4 columns]"
            ]
          },
          "metadata": {},
          "execution_count": 3
        }
      ]
    },
    {
      "cell_type": "code",
      "metadata": {
        "colab": {
          "base_uri": "https://localhost:8080/"
        },
        "id": "8XxkHbgEpJv_",
        "outputId": "ec3d59f1-5e49-40fc-d14a-a2de4ffc1cbd"
      },
      "source": [
        "df.text.isna().value_counts()"
      ],
      "execution_count": null,
      "outputs": [
        {
          "output_type": "execute_result",
          "data": {
            "text/plain": [
              "False    8293\n",
              "Name: text, dtype: int64"
            ]
          },
          "metadata": {},
          "execution_count": 4
        }
      ]
    },
    {
      "cell_type": "code",
      "metadata": {
        "id": "M1b1DYMkpNYV"
      },
      "source": [
        "english_text = pd.DataFrame()\n",
        "icelandic_text = pd.DataFrame()\n",
        "#ice_letters = ['á', 'ð', 'é', 'í', 'ó', 'ú', 'ý', 'þ', 'æ', 'ö']\n",
        "for i,row in df.iterrows():\n",
        "  r = re.findall(r'(á|ð|é|í|ó|ú|ý|þ|æ|ö)', row.text)\n",
        "  if r:\n",
        "   icelandic_text = icelandic_text.append(row)\n",
        "  else:\n",
        "   english_text = english_text.append(row)"
      ],
      "execution_count": null,
      "outputs": []
    },
    {
      "cell_type": "code",
      "metadata": {
        "id": "EuGMl-U4pPBl"
      },
      "source": [
        "icelandic_text"
      ],
      "execution_count": null,
      "outputs": []
    },
    {
      "cell_type": "code",
      "metadata": {
        "id": "FeAjzB3KpTgB"
      },
      "source": [
        "\n",
        "icelandic_text.to_csv('hugi_icelandic_meta.csv', index=False)"
      ],
      "execution_count": null,
      "outputs": []
    },
    {
      "cell_type": "code",
      "metadata": {
        "id": "eL0xiscLpd55"
      },
      "source": [
        "english_text.to_csv('hugi_english_meta.csv', index=False)"
      ],
      "execution_count": null,
      "outputs": []
    },
    {
      "cell_type": "code",
      "metadata": {
        "id": "A0w2E7q832ue"
      },
      "source": [
        "df1 = pd.read_csv(\"hugi_english_meta.csv\")\n",
        "df1"
      ],
      "execution_count": null,
      "outputs": []
    },
    {
      "cell_type": "code",
      "metadata": {
        "id": "Fhrvo6jf4N3_"
      },
      "source": [
        "df2 = pd.read_csv(\"english_topics.csv\")\n",
        "df2"
      ],
      "execution_count": null,
      "outputs": []
    },
    {
      "cell_type": "code",
      "metadata": {
        "id": "CbIEWhtO3k2h"
      },
      "source": [
        "all_data_eng = pd.concat([df1, df2], axis=1)\n",
        "all_data_eng.to_csv('all_data_eng.csv', index=False)\n",
        "all_data_eng"
      ],
      "execution_count": null,
      "outputs": []
    },
    {
      "cell_type": "code",
      "metadata": {
        "id": "EV-mT8bj49nZ"
      },
      "source": [
        "df4 = pd.read_csv(\"icelandic_topics.csv\")\n",
        "df4"
      ],
      "execution_count": null,
      "outputs": []
    },
    {
      "cell_type": "code",
      "metadata": {
        "id": "Jiv2meg_5HdR"
      },
      "source": [
        "df5 = pd.read_csv(\"poems_is_tagged.csv\")\n",
        "df5"
      ],
      "execution_count": null,
      "outputs": []
    },
    {
      "cell_type": "code",
      "metadata": {
        "id": "tZGtFtYn7UJK"
      },
      "source": [
        "df6 = pd.read_csv(\"hugi_icelandic_meta.csv\")\n",
        "df6"
      ],
      "execution_count": null,
      "outputs": []
    },
    {
      "cell_type": "code",
      "metadata": {
        "id": "6hynoKnM5wNy"
      },
      "source": [
        "all_data_is = pd.concat([df4, df5, df6], axis=1)\n",
        "all_data_is.to_csv('all_data_is.csv', index=False)\n",
        "all_data_is"
      ],
      "execution_count": null,
      "outputs": []
    }
  ]
}