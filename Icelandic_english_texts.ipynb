{
  "nbformat": 4,
  "nbformat_minor": 0,
  "metadata": {
    "colab": {
      "name": "Icelandic-english  texts.ipynb",
      "provenance": [],
      "collapsed_sections": [],
      "authorship_tag": "ABX9TyOyImNDfFnDcsyMx68vwruU",
      "include_colab_link": true
    },
    "kernelspec": {
      "name": "python3",
      "display_name": "Python 3"
    },
    "language_info": {
      "name": "python"
    }
  },
  "cells": [
    {
      "cell_type": "markdown",
      "metadata": {
        "id": "view-in-github",
        "colab_type": "text"
      },
      "source": [
        "<a href=\"https://colab.research.google.com/github/Eleniy1/LDA_Icelandic/blob/main/Icelandic_english_texts.ipynb\" target=\"_parent\"><img src=\"https://colab.research.google.com/assets/colab-badge.svg\" alt=\"Open In Colab\"/></a>"
      ]
    },
    {
      "cell_type": "code",
      "metadata": {
        "id": "gIR7eS71o2qq"
      },
      "source": [
        "import pandas as pd\n",
        "import re"
      ],
      "execution_count": null,
      "outputs": []
    },
    {
      "cell_type": "code",
      "metadata": {
        "id": "JrldRKwgo5-X"
      },
      "source": [
        "df = pd.read_csv(\"ALL_hugi.is.poems.csv\")\n",
        "df\n"
      ],
      "execution_count": null,
      "outputs": []
    },
    {
      "cell_type": "code",
      "metadata": {
        "colab": {
          "base_uri": "https://localhost:8080/"
        },
        "id": "8XxkHbgEpJv_",
        "outputId": "ec3d59f1-5e49-40fc-d14a-a2de4ffc1cbd"
      },
      "source": [
        "df.text.isna().value_counts()"
      ],
      "execution_count": null,
      "outputs": [
        {
          "output_type": "execute_result",
          "data": {
            "text/plain": [
              "False    8293\n",
              "Name: text, dtype: int64"
            ]
          },
          "metadata": {},
          "execution_count": 4
        }
      ]
    },
    {
      "cell_type": "code",
      "metadata": {
        "id": "M1b1DYMkpNYV"
      },
      "source": [
        "english_text = pd.DataFrame()\n",
        "icelandic_text = pd.DataFrame()\n",
        "#ice_letters = ['á', 'ð', 'é', 'í', 'ó', 'ú', 'ý', 'þ', 'æ', 'ö']\n",
        "for i,row in df.iterrows():\n",
        "  r = re.findall(r'(á|ð|é|í|ó|ú|ý|þ|æ|ö)', row.text)\n",
        "  if r:\n",
        "   icelandic_text = icelandic_text.append(row)\n",
        "  else:\n",
        "   english_text = english_text.append(row)"
      ],
      "execution_count": null,
      "outputs": []
    },
    {
      "cell_type": "code",
      "metadata": {
        "id": "EuGMl-U4pPBl"
      },
      "source": [
        "icelandic_text"
      ],
      "execution_count": null,
      "outputs": []
    },
    {
      "cell_type": "code",
      "metadata": {
        "id": "FeAjzB3KpTgB"
      },
      "source": [
        "\n",
        "icelandic_text.to_csv('hugi_icelandic_meta.csv', index=False)"
      ],
      "execution_count": null,
      "outputs": []
    },
    {
      "cell_type": "code",
      "metadata": {
        "id": "eL0xiscLpd55"
      },
      "source": [
        "english_text.to_csv('hugi_english_meta.csv', index=False)"
      ],
      "execution_count": null,
      "outputs": []
    },
    {
      "cell_type": "code",
      "metadata": {
        "id": "A0w2E7q832ue"
      },
      "source": [
        "df1 = pd.read_csv(\"hugi_english_meta.csv\")\n",
        "df1"
      ],
      "execution_count": null,
      "outputs": []
    },
    {
      "cell_type": "code",
      "metadata": {
        "id": "Fhrvo6jf4N3_"
      },
      "source": [
        "df2 = pd.read_csv(\"english_topics.csv\")\n",
        "df2"
      ],
      "execution_count": null,
      "outputs": []
    },
    {
      "cell_type": "code",
      "metadata": {
        "id": "CbIEWhtO3k2h"
      },
      "source": [
        "all_data_eng = pd.concat([df1, df2], axis=1)\n",
        "all_data_eng.to_csv('all_data_eng.csv', index=False)\n",
        "all_data_eng"
      ],
      "execution_count": null,
      "outputs": []
    },
    {
      "cell_type": "code",
      "metadata": {
        "id": "EV-mT8bj49nZ"
      },
      "source": [
        "df4 = pd.read_csv(\"icelandic_topics.csv\")\n",
        "df4"
      ],
      "execution_count": null,
      "outputs": []
    },
    {
      "cell_type": "code",
      "metadata": {
        "id": "Jiv2meg_5HdR"
      },
      "source": [
        "df5 = pd.read_csv(\"poems_is_tagged.csv\")\n",
        "df5"
      ],
      "execution_count": null,
      "outputs": []
    },
    {
      "cell_type": "code",
      "metadata": {
        "id": "tZGtFtYn7UJK"
      },
      "source": [
        "df6 = pd.read_csv(\"hugi_icelandic_meta.csv\")\n",
        "df6"
      ],
      "execution_count": null,
      "outputs": []
    },
    {
      "cell_type": "code",
      "metadata": {
        "id": "6hynoKnM5wNy"
      },
      "source": [
        "all_data_is = pd.concat([df4, df5, df6], axis=1)\n",
        "all_data_is.to_csv('all_data_is.csv', index=False)\n",
        "all_data_is"
      ],
      "execution_count": null,
      "outputs": []
    }
  ]
}