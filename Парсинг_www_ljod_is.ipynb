{
  "nbformat": 4,
  "nbformat_minor": 0,
  "metadata": {
    "colab": {
      "name": "Парсинг www.ljod.is.ipynb",
      "provenance": [],
      "include_colab_link": true
    },
    "kernelspec": {
      "display_name": "Python 3",
      "name": "python3"
    },
    "language_info": {
      "name": "python"
    }
  },
  "cells": [
    {
      "cell_type": "markdown",
      "metadata": {
        "id": "view-in-github",
        "colab_type": "text"
      },
      "source": [
        "<a href=\"https://colab.research.google.com/github/Eleniy1/LDA_Icelandic/blob/main/%D0%9F%D0%B0%D1%80%D1%81%D0%B8%D0%BD%D0%B3_www_ljod_is.ipynb\" target=\"_parent\"><img src=\"https://colab.research.google.com/assets/colab-badge.svg\" alt=\"Open In Colab\"/></a>"
      ]
    },
    {
      "cell_type": "markdown",
      "metadata": {
        "id": "RQWtxU2eeYoF"
      },
      "source": [
        "1. Для http://www.ljod.is/"
      ]
    },
    {
      "cell_type": "code",
      "metadata": {
        "id": "av3BsRtQeqSd"
      },
      "source": [
        "from bs4 import BeautifulSoup\n",
        "import urllib.request\n",
        "import pandas as pd"
      ],
      "execution_count": null,
      "outputs": []
    },
    {
      "cell_type": "code",
      "metadata": {
        "id": "7bWfxnOKhxsC"
      },
      "source": [
        "texts = []\n",
        "\n",
        "soup1 = BeautifulSoup(urllib.request.urlopen('http://www.ljod.is/'))\n",
        "links_abc = [link['href'] for link in soup1('a') if 'href' in link.attrs and 'poem_collection/author' in link['href']]\n",
        "\n",
        "for link_abc in links_abc[:]:\n",
        "    soup2 = BeautifulSoup(urllib.request.urlopen(link_abc))\n",
        "    links_poet = [link['href'] for link in soup2('a') if 'href' in link.attrs and 'view_poet' in link['href']]\n",
        "\n",
        "    for link_poet in links_poet[:]:\n",
        "        soup3 = BeautifulSoup(urllib.request.urlopen(link_poet))\n",
        "        links_poem = [link['href'] for link in soup3('a') if 'href' in link.attrs and 'view_poem' in link['href']]\n",
        "        \n",
        "        for link_poem in links_poem[:]:\n",
        "            soup4 = BeautifulSoup(urllib.request.urlopen(link_poem))\n",
        "            texts.append(soup4.find('span', class_='poem').text.strip().replace('\\r\\n', ' '))"
      ],
      "execution_count": null,
      "outputs": []
    },
    {
      "cell_type": "code",
      "metadata": {
        "id": "dYseyaf-SzGP"
      },
      "source": [
        "df = pd.DataFrame({'text': texts})\n",
        "df.to_csv('ljod.is.poems.csv')"
      ],
      "execution_count": null,
      "outputs": []
    }
  ]
}