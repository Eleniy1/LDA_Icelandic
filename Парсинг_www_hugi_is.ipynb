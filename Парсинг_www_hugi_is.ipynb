{
  "nbformat": 4,
  "nbformat_minor": 0,
  "metadata": {
    "colab": {
      "name": "Парсинг www.hugi.is.ipynb",
      "provenance": [],
      "collapsed_sections": [],
      "include_colab_link": true
    },
    "kernelspec": {
      "name": "python3",
      "display_name": "Python 3"
    },
    "language_info": {
      "name": "python"
    }
  },
  "cells": [
    {
      "cell_type": "markdown",
      "metadata": {
        "id": "view-in-github",
        "colab_type": "text"
      },
      "source": [
        "<a href=\"https://colab.research.google.com/github/Eleniy1/LDA_Icelandic/blob/main/%D0%9F%D0%B0%D1%80%D1%81%D0%B8%D0%BD%D0%B3_www_hugi_is.ipynb\" target=\"_parent\"><img src=\"https://colab.research.google.com/assets/colab-badge.svg\" alt=\"Open In Colab\"/></a>"
      ]
    },
    {
      "cell_type": "markdown",
      "metadata": {
        "id": "VmkFxeeWIS_h"
      },
      "source": [
        "Для www.hugi.is"
      ]
    },
    {
      "cell_type": "code",
      "metadata": {
        "id": "sPhK8K_71zSr"
      },
      "source": [
        "from bs4 import BeautifulSoup\n",
        "import pandas as pd\n",
        "import urllib.request\n",
        "import re"
      ],
      "execution_count": null,
      "outputs": []
    },
    {
      "cell_type": "markdown",
      "metadata": {
        "id": "04HMyKGAMqYu"
      },
      "source": [
        "Перебор страниц"
      ]
    },
    {
      "cell_type": "code",
      "metadata": {
        "id": "j6cgz7-EMry-",
        "colab": {
          "base_uri": "https://localhost:8080/"
        },
        "outputId": "63f881b1-ee44-4010-d55d-8f34336e7dc1"
      },
      "source": [
        "main_link = []\n",
        "meta = []\n",
        "n = 0\n",
        "while n<342:\n",
        "  n+=1\n",
        "  link1 = 'https://www.hugi.is/ljod/greinar/heitast/?sida='+str(n)\n",
        "  main_link.append(link1)\n",
        "print(main_link)\n"
      ],
      "execution_count": null,
      "outputs": [
        {
          "output_type": "stream",
          "name": "stdout",
          "text": [
            "['https://www.hugi.is/ljod/greinar/heitast/?sida=1', 'https://www.hugi.is/ljod/greinar/heitast/?sida=2', 'https://www.hugi.is/ljod/greinar/heitast/?sida=3', 'https://www.hugi.is/ljod/greinar/heitast/?sida=4', 'https://www.hugi.is/ljod/greinar/heitast/?sida=5', 'https://www.hugi.is/ljod/greinar/heitast/?sida=6', 'https://www.hugi.is/ljod/greinar/heitast/?sida=7', 'https://www.hugi.is/ljod/greinar/heitast/?sida=8', 'https://www.hugi.is/ljod/greinar/heitast/?sida=9', 'https://www.hugi.is/ljod/greinar/heitast/?sida=10', 'https://www.hugi.is/ljod/greinar/heitast/?sida=11', 'https://www.hugi.is/ljod/greinar/heitast/?sida=12', 'https://www.hugi.is/ljod/greinar/heitast/?sida=13', 'https://www.hugi.is/ljod/greinar/heitast/?sida=14', 'https://www.hugi.is/ljod/greinar/heitast/?sida=15', 'https://www.hugi.is/ljod/greinar/heitast/?sida=16', 'https://www.hugi.is/ljod/greinar/heitast/?sida=17', 'https://www.hugi.is/ljod/greinar/heitast/?sida=18', 'https://www.hugi.is/ljod/greinar/heitast/?sida=19', 'https://www.hugi.is/ljod/greinar/heitast/?sida=20', 'https://www.hugi.is/ljod/greinar/heitast/?sida=21', 'https://www.hugi.is/ljod/greinar/heitast/?sida=22', 'https://www.hugi.is/ljod/greinar/heitast/?sida=23', 'https://www.hugi.is/ljod/greinar/heitast/?sida=24', 'https://www.hugi.is/ljod/greinar/heitast/?sida=25', 'https://www.hugi.is/ljod/greinar/heitast/?sida=26', 'https://www.hugi.is/ljod/greinar/heitast/?sida=27', 'https://www.hugi.is/ljod/greinar/heitast/?sida=28', 'https://www.hugi.is/ljod/greinar/heitast/?sida=29', 'https://www.hugi.is/ljod/greinar/heitast/?sida=30', 'https://www.hugi.is/ljod/greinar/heitast/?sida=31', 'https://www.hugi.is/ljod/greinar/heitast/?sida=32', 'https://www.hugi.is/ljod/greinar/heitast/?sida=33', 'https://www.hugi.is/ljod/greinar/heitast/?sida=34', 'https://www.hugi.is/ljod/greinar/heitast/?sida=35', 'https://www.hugi.is/ljod/greinar/heitast/?sida=36', 'https://www.hugi.is/ljod/greinar/heitast/?sida=37', 'https://www.hugi.is/ljod/greinar/heitast/?sida=38', 'https://www.hugi.is/ljod/greinar/heitast/?sida=39', 'https://www.hugi.is/ljod/greinar/heitast/?sida=40', 'https://www.hugi.is/ljod/greinar/heitast/?sida=41', 'https://www.hugi.is/ljod/greinar/heitast/?sida=42', 'https://www.hugi.is/ljod/greinar/heitast/?sida=43', 'https://www.hugi.is/ljod/greinar/heitast/?sida=44', 'https://www.hugi.is/ljod/greinar/heitast/?sida=45', 'https://www.hugi.is/ljod/greinar/heitast/?sida=46', 'https://www.hugi.is/ljod/greinar/heitast/?sida=47', 'https://www.hugi.is/ljod/greinar/heitast/?sida=48', 'https://www.hugi.is/ljod/greinar/heitast/?sida=49', 'https://www.hugi.is/ljod/greinar/heitast/?sida=50', 'https://www.hugi.is/ljod/greinar/heitast/?sida=51', 'https://www.hugi.is/ljod/greinar/heitast/?sida=52', 'https://www.hugi.is/ljod/greinar/heitast/?sida=53', 'https://www.hugi.is/ljod/greinar/heitast/?sida=54', 'https://www.hugi.is/ljod/greinar/heitast/?sida=55', 'https://www.hugi.is/ljod/greinar/heitast/?sida=56', 'https://www.hugi.is/ljod/greinar/heitast/?sida=57', 'https://www.hugi.is/ljod/greinar/heitast/?sida=58', 'https://www.hugi.is/ljod/greinar/heitast/?sida=59', 'https://www.hugi.is/ljod/greinar/heitast/?sida=60', 'https://www.hugi.is/ljod/greinar/heitast/?sida=61', 'https://www.hugi.is/ljod/greinar/heitast/?sida=62', 'https://www.hugi.is/ljod/greinar/heitast/?sida=63', 'https://www.hugi.is/ljod/greinar/heitast/?sida=64', 'https://www.hugi.is/ljod/greinar/heitast/?sida=65', 'https://www.hugi.is/ljod/greinar/heitast/?sida=66', 'https://www.hugi.is/ljod/greinar/heitast/?sida=67', 'https://www.hugi.is/ljod/greinar/heitast/?sida=68', 'https://www.hugi.is/ljod/greinar/heitast/?sida=69', 'https://www.hugi.is/ljod/greinar/heitast/?sida=70', 'https://www.hugi.is/ljod/greinar/heitast/?sida=71', 'https://www.hugi.is/ljod/greinar/heitast/?sida=72', 'https://www.hugi.is/ljod/greinar/heitast/?sida=73', 'https://www.hugi.is/ljod/greinar/heitast/?sida=74', 'https://www.hugi.is/ljod/greinar/heitast/?sida=75', 'https://www.hugi.is/ljod/greinar/heitast/?sida=76', 'https://www.hugi.is/ljod/greinar/heitast/?sida=77', 'https://www.hugi.is/ljod/greinar/heitast/?sida=78', 'https://www.hugi.is/ljod/greinar/heitast/?sida=79', 'https://www.hugi.is/ljod/greinar/heitast/?sida=80', 'https://www.hugi.is/ljod/greinar/heitast/?sida=81', 'https://www.hugi.is/ljod/greinar/heitast/?sida=82', 'https://www.hugi.is/ljod/greinar/heitast/?sida=83', 'https://www.hugi.is/ljod/greinar/heitast/?sida=84', 'https://www.hugi.is/ljod/greinar/heitast/?sida=85', 'https://www.hugi.is/ljod/greinar/heitast/?sida=86', 'https://www.hugi.is/ljod/greinar/heitast/?sida=87', 'https://www.hugi.is/ljod/greinar/heitast/?sida=88', 'https://www.hugi.is/ljod/greinar/heitast/?sida=89', 'https://www.hugi.is/ljod/greinar/heitast/?sida=90', 'https://www.hugi.is/ljod/greinar/heitast/?sida=91', 'https://www.hugi.is/ljod/greinar/heitast/?sida=92', 'https://www.hugi.is/ljod/greinar/heitast/?sida=93', 'https://www.hugi.is/ljod/greinar/heitast/?sida=94', 'https://www.hugi.is/ljod/greinar/heitast/?sida=95', 'https://www.hugi.is/ljod/greinar/heitast/?sida=96', 'https://www.hugi.is/ljod/greinar/heitast/?sida=97', 'https://www.hugi.is/ljod/greinar/heitast/?sida=98', 'https://www.hugi.is/ljod/greinar/heitast/?sida=99', 'https://www.hugi.is/ljod/greinar/heitast/?sida=100', 'https://www.hugi.is/ljod/greinar/heitast/?sida=101', 'https://www.hugi.is/ljod/greinar/heitast/?sida=102', 'https://www.hugi.is/ljod/greinar/heitast/?sida=103', 'https://www.hugi.is/ljod/greinar/heitast/?sida=104', 'https://www.hugi.is/ljod/greinar/heitast/?sida=105', 'https://www.hugi.is/ljod/greinar/heitast/?sida=106', 'https://www.hugi.is/ljod/greinar/heitast/?sida=107', 'https://www.hugi.is/ljod/greinar/heitast/?sida=108', 'https://www.hugi.is/ljod/greinar/heitast/?sida=109', 'https://www.hugi.is/ljod/greinar/heitast/?sida=110', 'https://www.hugi.is/ljod/greinar/heitast/?sida=111', 'https://www.hugi.is/ljod/greinar/heitast/?sida=112', 'https://www.hugi.is/ljod/greinar/heitast/?sida=113', 'https://www.hugi.is/ljod/greinar/heitast/?sida=114', 'https://www.hugi.is/ljod/greinar/heitast/?sida=115', 'https://www.hugi.is/ljod/greinar/heitast/?sida=116', 'https://www.hugi.is/ljod/greinar/heitast/?sida=117', 'https://www.hugi.is/ljod/greinar/heitast/?sida=118', 'https://www.hugi.is/ljod/greinar/heitast/?sida=119', 'https://www.hugi.is/ljod/greinar/heitast/?sida=120', 'https://www.hugi.is/ljod/greinar/heitast/?sida=121', 'https://www.hugi.is/ljod/greinar/heitast/?sida=122', 'https://www.hugi.is/ljod/greinar/heitast/?sida=123', 'https://www.hugi.is/ljod/greinar/heitast/?sida=124', 'https://www.hugi.is/ljod/greinar/heitast/?sida=125', 'https://www.hugi.is/ljod/greinar/heitast/?sida=126', 'https://www.hugi.is/ljod/greinar/heitast/?sida=127', 'https://www.hugi.is/ljod/greinar/heitast/?sida=128', 'https://www.hugi.is/ljod/greinar/heitast/?sida=129', 'https://www.hugi.is/ljod/greinar/heitast/?sida=130', 'https://www.hugi.is/ljod/greinar/heitast/?sida=131', 'https://www.hugi.is/ljod/greinar/heitast/?sida=132', 'https://www.hugi.is/ljod/greinar/heitast/?sida=133', 'https://www.hugi.is/ljod/greinar/heitast/?sida=134', 'https://www.hugi.is/ljod/greinar/heitast/?sida=135', 'https://www.hugi.is/ljod/greinar/heitast/?sida=136', 'https://www.hugi.is/ljod/greinar/heitast/?sida=137', 'https://www.hugi.is/ljod/greinar/heitast/?sida=138', 'https://www.hugi.is/ljod/greinar/heitast/?sida=139', 'https://www.hugi.is/ljod/greinar/heitast/?sida=140', 'https://www.hugi.is/ljod/greinar/heitast/?sida=141', 'https://www.hugi.is/ljod/greinar/heitast/?sida=142', 'https://www.hugi.is/ljod/greinar/heitast/?sida=143', 'https://www.hugi.is/ljod/greinar/heitast/?sida=144', 'https://www.hugi.is/ljod/greinar/heitast/?sida=145', 'https://www.hugi.is/ljod/greinar/heitast/?sida=146', 'https://www.hugi.is/ljod/greinar/heitast/?sida=147', 'https://www.hugi.is/ljod/greinar/heitast/?sida=148', 'https://www.hugi.is/ljod/greinar/heitast/?sida=149', 'https://www.hugi.is/ljod/greinar/heitast/?sida=150', 'https://www.hugi.is/ljod/greinar/heitast/?sida=151', 'https://www.hugi.is/ljod/greinar/heitast/?sida=152', 'https://www.hugi.is/ljod/greinar/heitast/?sida=153', 'https://www.hugi.is/ljod/greinar/heitast/?sida=154', 'https://www.hugi.is/ljod/greinar/heitast/?sida=155', 'https://www.hugi.is/ljod/greinar/heitast/?sida=156', 'https://www.hugi.is/ljod/greinar/heitast/?sida=157', 'https://www.hugi.is/ljod/greinar/heitast/?sida=158', 'https://www.hugi.is/ljod/greinar/heitast/?sida=159', 'https://www.hugi.is/ljod/greinar/heitast/?sida=160', 'https://www.hugi.is/ljod/greinar/heitast/?sida=161', 'https://www.hugi.is/ljod/greinar/heitast/?sida=162', 'https://www.hugi.is/ljod/greinar/heitast/?sida=163', 'https://www.hugi.is/ljod/greinar/heitast/?sida=164', 'https://www.hugi.is/ljod/greinar/heitast/?sida=165', 'https://www.hugi.is/ljod/greinar/heitast/?sida=166', 'https://www.hugi.is/ljod/greinar/heitast/?sida=167', 'https://www.hugi.is/ljod/greinar/heitast/?sida=168', 'https://www.hugi.is/ljod/greinar/heitast/?sida=169', 'https://www.hugi.is/ljod/greinar/heitast/?sida=170', 'https://www.hugi.is/ljod/greinar/heitast/?sida=171', 'https://www.hugi.is/ljod/greinar/heitast/?sida=172', 'https://www.hugi.is/ljod/greinar/heitast/?sida=173', 'https://www.hugi.is/ljod/greinar/heitast/?sida=174', 'https://www.hugi.is/ljod/greinar/heitast/?sida=175', 'https://www.hugi.is/ljod/greinar/heitast/?sida=176', 'https://www.hugi.is/ljod/greinar/heitast/?sida=177', 'https://www.hugi.is/ljod/greinar/heitast/?sida=178', 'https://www.hugi.is/ljod/greinar/heitast/?sida=179', 'https://www.hugi.is/ljod/greinar/heitast/?sida=180', 'https://www.hugi.is/ljod/greinar/heitast/?sida=181', 'https://www.hugi.is/ljod/greinar/heitast/?sida=182', 'https://www.hugi.is/ljod/greinar/heitast/?sida=183', 'https://www.hugi.is/ljod/greinar/heitast/?sida=184', 'https://www.hugi.is/ljod/greinar/heitast/?sida=185', 'https://www.hugi.is/ljod/greinar/heitast/?sida=186', 'https://www.hugi.is/ljod/greinar/heitast/?sida=187', 'https://www.hugi.is/ljod/greinar/heitast/?sida=188', 'https://www.hugi.is/ljod/greinar/heitast/?sida=189', 'https://www.hugi.is/ljod/greinar/heitast/?sida=190', 'https://www.hugi.is/ljod/greinar/heitast/?sida=191', 'https://www.hugi.is/ljod/greinar/heitast/?sida=192', 'https://www.hugi.is/ljod/greinar/heitast/?sida=193', 'https://www.hugi.is/ljod/greinar/heitast/?sida=194', 'https://www.hugi.is/ljod/greinar/heitast/?sida=195', 'https://www.hugi.is/ljod/greinar/heitast/?sida=196', 'https://www.hugi.is/ljod/greinar/heitast/?sida=197', 'https://www.hugi.is/ljod/greinar/heitast/?sida=198', 'https://www.hugi.is/ljod/greinar/heitast/?sida=199', 'https://www.hugi.is/ljod/greinar/heitast/?sida=200', 'https://www.hugi.is/ljod/greinar/heitast/?sida=201', 'https://www.hugi.is/ljod/greinar/heitast/?sida=202', 'https://www.hugi.is/ljod/greinar/heitast/?sida=203', 'https://www.hugi.is/ljod/greinar/heitast/?sida=204', 'https://www.hugi.is/ljod/greinar/heitast/?sida=205', 'https://www.hugi.is/ljod/greinar/heitast/?sida=206', 'https://www.hugi.is/ljod/greinar/heitast/?sida=207', 'https://www.hugi.is/ljod/greinar/heitast/?sida=208', 'https://www.hugi.is/ljod/greinar/heitast/?sida=209', 'https://www.hugi.is/ljod/greinar/heitast/?sida=210', 'https://www.hugi.is/ljod/greinar/heitast/?sida=211', 'https://www.hugi.is/ljod/greinar/heitast/?sida=212', 'https://www.hugi.is/ljod/greinar/heitast/?sida=213', 'https://www.hugi.is/ljod/greinar/heitast/?sida=214', 'https://www.hugi.is/ljod/greinar/heitast/?sida=215', 'https://www.hugi.is/ljod/greinar/heitast/?sida=216', 'https://www.hugi.is/ljod/greinar/heitast/?sida=217', 'https://www.hugi.is/ljod/greinar/heitast/?sida=218', 'https://www.hugi.is/ljod/greinar/heitast/?sida=219', 'https://www.hugi.is/ljod/greinar/heitast/?sida=220', 'https://www.hugi.is/ljod/greinar/heitast/?sida=221', 'https://www.hugi.is/ljod/greinar/heitast/?sida=222', 'https://www.hugi.is/ljod/greinar/heitast/?sida=223', 'https://www.hugi.is/ljod/greinar/heitast/?sida=224', 'https://www.hugi.is/ljod/greinar/heitast/?sida=225', 'https://www.hugi.is/ljod/greinar/heitast/?sida=226', 'https://www.hugi.is/ljod/greinar/heitast/?sida=227', 'https://www.hugi.is/ljod/greinar/heitast/?sida=228', 'https://www.hugi.is/ljod/greinar/heitast/?sida=229', 'https://www.hugi.is/ljod/greinar/heitast/?sida=230', 'https://www.hugi.is/ljod/greinar/heitast/?sida=231', 'https://www.hugi.is/ljod/greinar/heitast/?sida=232', 'https://www.hugi.is/ljod/greinar/heitast/?sida=233', 'https://www.hugi.is/ljod/greinar/heitast/?sida=234', 'https://www.hugi.is/ljod/greinar/heitast/?sida=235', 'https://www.hugi.is/ljod/greinar/heitast/?sida=236', 'https://www.hugi.is/ljod/greinar/heitast/?sida=237', 'https://www.hugi.is/ljod/greinar/heitast/?sida=238', 'https://www.hugi.is/ljod/greinar/heitast/?sida=239', 'https://www.hugi.is/ljod/greinar/heitast/?sida=240', 'https://www.hugi.is/ljod/greinar/heitast/?sida=241', 'https://www.hugi.is/ljod/greinar/heitast/?sida=242', 'https://www.hugi.is/ljod/greinar/heitast/?sida=243', 'https://www.hugi.is/ljod/greinar/heitast/?sida=244', 'https://www.hugi.is/ljod/greinar/heitast/?sida=245', 'https://www.hugi.is/ljod/greinar/heitast/?sida=246', 'https://www.hugi.is/ljod/greinar/heitast/?sida=247', 'https://www.hugi.is/ljod/greinar/heitast/?sida=248', 'https://www.hugi.is/ljod/greinar/heitast/?sida=249', 'https://www.hugi.is/ljod/greinar/heitast/?sida=250', 'https://www.hugi.is/ljod/greinar/heitast/?sida=251', 'https://www.hugi.is/ljod/greinar/heitast/?sida=252', 'https://www.hugi.is/ljod/greinar/heitast/?sida=253', 'https://www.hugi.is/ljod/greinar/heitast/?sida=254', 'https://www.hugi.is/ljod/greinar/heitast/?sida=255', 'https://www.hugi.is/ljod/greinar/heitast/?sida=256', 'https://www.hugi.is/ljod/greinar/heitast/?sida=257', 'https://www.hugi.is/ljod/greinar/heitast/?sida=258', 'https://www.hugi.is/ljod/greinar/heitast/?sida=259', 'https://www.hugi.is/ljod/greinar/heitast/?sida=260', 'https://www.hugi.is/ljod/greinar/heitast/?sida=261', 'https://www.hugi.is/ljod/greinar/heitast/?sida=262', 'https://www.hugi.is/ljod/greinar/heitast/?sida=263', 'https://www.hugi.is/ljod/greinar/heitast/?sida=264', 'https://www.hugi.is/ljod/greinar/heitast/?sida=265', 'https://www.hugi.is/ljod/greinar/heitast/?sida=266', 'https://www.hugi.is/ljod/greinar/heitast/?sida=267', 'https://www.hugi.is/ljod/greinar/heitast/?sida=268', 'https://www.hugi.is/ljod/greinar/heitast/?sida=269', 'https://www.hugi.is/ljod/greinar/heitast/?sida=270', 'https://www.hugi.is/ljod/greinar/heitast/?sida=271', 'https://www.hugi.is/ljod/greinar/heitast/?sida=272', 'https://www.hugi.is/ljod/greinar/heitast/?sida=273', 'https://www.hugi.is/ljod/greinar/heitast/?sida=274', 'https://www.hugi.is/ljod/greinar/heitast/?sida=275', 'https://www.hugi.is/ljod/greinar/heitast/?sida=276', 'https://www.hugi.is/ljod/greinar/heitast/?sida=277', 'https://www.hugi.is/ljod/greinar/heitast/?sida=278', 'https://www.hugi.is/ljod/greinar/heitast/?sida=279', 'https://www.hugi.is/ljod/greinar/heitast/?sida=280', 'https://www.hugi.is/ljod/greinar/heitast/?sida=281', 'https://www.hugi.is/ljod/greinar/heitast/?sida=282', 'https://www.hugi.is/ljod/greinar/heitast/?sida=283', 'https://www.hugi.is/ljod/greinar/heitast/?sida=284', 'https://www.hugi.is/ljod/greinar/heitast/?sida=285', 'https://www.hugi.is/ljod/greinar/heitast/?sida=286', 'https://www.hugi.is/ljod/greinar/heitast/?sida=287', 'https://www.hugi.is/ljod/greinar/heitast/?sida=288', 'https://www.hugi.is/ljod/greinar/heitast/?sida=289', 'https://www.hugi.is/ljod/greinar/heitast/?sida=290', 'https://www.hugi.is/ljod/greinar/heitast/?sida=291', 'https://www.hugi.is/ljod/greinar/heitast/?sida=292', 'https://www.hugi.is/ljod/greinar/heitast/?sida=293', 'https://www.hugi.is/ljod/greinar/heitast/?sida=294', 'https://www.hugi.is/ljod/greinar/heitast/?sida=295', 'https://www.hugi.is/ljod/greinar/heitast/?sida=296', 'https://www.hugi.is/ljod/greinar/heitast/?sida=297', 'https://www.hugi.is/ljod/greinar/heitast/?sida=298', 'https://www.hugi.is/ljod/greinar/heitast/?sida=299', 'https://www.hugi.is/ljod/greinar/heitast/?sida=300', 'https://www.hugi.is/ljod/greinar/heitast/?sida=301', 'https://www.hugi.is/ljod/greinar/heitast/?sida=302', 'https://www.hugi.is/ljod/greinar/heitast/?sida=303', 'https://www.hugi.is/ljod/greinar/heitast/?sida=304', 'https://www.hugi.is/ljod/greinar/heitast/?sida=305', 'https://www.hugi.is/ljod/greinar/heitast/?sida=306', 'https://www.hugi.is/ljod/greinar/heitast/?sida=307', 'https://www.hugi.is/ljod/greinar/heitast/?sida=308', 'https://www.hugi.is/ljod/greinar/heitast/?sida=309', 'https://www.hugi.is/ljod/greinar/heitast/?sida=310', 'https://www.hugi.is/ljod/greinar/heitast/?sida=311', 'https://www.hugi.is/ljod/greinar/heitast/?sida=312', 'https://www.hugi.is/ljod/greinar/heitast/?sida=313', 'https://www.hugi.is/ljod/greinar/heitast/?sida=314', 'https://www.hugi.is/ljod/greinar/heitast/?sida=315', 'https://www.hugi.is/ljod/greinar/heitast/?sida=316', 'https://www.hugi.is/ljod/greinar/heitast/?sida=317', 'https://www.hugi.is/ljod/greinar/heitast/?sida=318', 'https://www.hugi.is/ljod/greinar/heitast/?sida=319', 'https://www.hugi.is/ljod/greinar/heitast/?sida=320', 'https://www.hugi.is/ljod/greinar/heitast/?sida=321', 'https://www.hugi.is/ljod/greinar/heitast/?sida=322', 'https://www.hugi.is/ljod/greinar/heitast/?sida=323', 'https://www.hugi.is/ljod/greinar/heitast/?sida=324', 'https://www.hugi.is/ljod/greinar/heitast/?sida=325', 'https://www.hugi.is/ljod/greinar/heitast/?sida=326', 'https://www.hugi.is/ljod/greinar/heitast/?sida=327', 'https://www.hugi.is/ljod/greinar/heitast/?sida=328', 'https://www.hugi.is/ljod/greinar/heitast/?sida=329', 'https://www.hugi.is/ljod/greinar/heitast/?sida=330', 'https://www.hugi.is/ljod/greinar/heitast/?sida=331', 'https://www.hugi.is/ljod/greinar/heitast/?sida=332', 'https://www.hugi.is/ljod/greinar/heitast/?sida=333', 'https://www.hugi.is/ljod/greinar/heitast/?sida=334', 'https://www.hugi.is/ljod/greinar/heitast/?sida=335', 'https://www.hugi.is/ljod/greinar/heitast/?sida=336', 'https://www.hugi.is/ljod/greinar/heitast/?sida=337', 'https://www.hugi.is/ljod/greinar/heitast/?sida=338', 'https://www.hugi.is/ljod/greinar/heitast/?sida=339', 'https://www.hugi.is/ljod/greinar/heitast/?sida=340', 'https://www.hugi.is/ljod/greinar/heitast/?sida=341', 'https://www.hugi.is/ljod/greinar/heitast/?sida=342']\n"
          ]
        }
      ]
    },
    {
      "cell_type": "code",
      "metadata": {
        "id": "tJfFFSzXE8ID"
      },
      "source": [
        "base_url = 'https://www.hugi.is'\n",
        "texts = pd.DataFrame({'poem_link': [], 'author_link': [], 'text': [], 'poem_date': []})\n",
        "for circle1 in main_link[:]:\n",
        "  soup1 = BeautifulSoup(urllib.request.urlopen(circle1))\n",
        "  for soup2 in soup1.find_all('tr', {'class': 'item'}):\n",
        "    poem_link = base_url + soup2.find('td', {'class': 'titlecol'})('a')[0]['href']\n",
        "    author_link = base_url + '/unknown/'\n",
        "    try:\n",
        "        author_link = base_url + soup2.find('td', {'class': 'authorcol'})('a')[0]['href']\n",
        "    except:\n",
        "        pass\n",
        "    poem_date = soup2.find('td', {'class': 'createdcol'}).find('span').text[:12]\n",
        "\n",
        "    soup3 = BeautifulSoup(urllib.request.urlopen(poem_link))\n",
        "    text = soup3.find('div', class_='articlebody').text.strip().replace('\\r', '').replace('\\n', ' ').replace('\\t', ' ').split()\n",
        "    text = ' '.join(text)\n",
        "        \n",
        "    texts = texts.append(pd.Series({'poem_link': poem_link, 'author_link': author_link, 'text': text, 'poem_date': poem_date}), ignore_index=True)    "
      ],
      "execution_count": null,
      "outputs": []
    },
    {
      "cell_type": "code",
      "metadata": {
        "colab": {
          "base_uri": "https://localhost:8080/",
          "height": 142
        },
        "id": "nLY2mF6lrZ2M",
        "outputId": "e7a8e55d-398e-4aa0-eb41-f3f01dce23e1"
      },
      "source": [
        "texts.head(3)"
      ],
      "execution_count": null,
      "outputs": [
        {
          "output_type": "execute_result",
          "data": {
            "text/html": [
              "<div>\n",
              "<style scoped>\n",
              "    .dataframe tbody tr th:only-of-type {\n",
              "        vertical-align: middle;\n",
              "    }\n",
              "\n",
              "    .dataframe tbody tr th {\n",
              "        vertical-align: top;\n",
              "    }\n",
              "\n",
              "    .dataframe thead th {\n",
              "        text-align: right;\n",
              "    }\n",
              "</style>\n",
              "<table border=\"1\" class=\"dataframe\">\n",
              "  <thead>\n",
              "    <tr style=\"text-align: right;\">\n",
              "      <th></th>\n",
              "      <th>poem_link</th>\n",
              "      <th>author_link</th>\n",
              "      <th>text</th>\n",
              "      <th>poem_date</th>\n",
              "    </tr>\n",
              "  </thead>\n",
              "  <tbody>\n",
              "    <tr>\n",
              "      <th>0</th>\n",
              "      <td>https://www.hugi.is/ljod/greinar/803008/vinar-...</td>\n",
              "      <td>https://www.hugi.is/notendur/gufa/</td>\n",
              "      <td>orð vitundar, vinar lykill Vinar lykill Vegur ...</td>\n",
              "      <td>28. jún 2016</td>\n",
              "    </tr>\n",
              "    <tr>\n",
              "      <th>1</th>\n",
              "      <td>https://www.hugi.is/ljod/greinar/802980/desemb...</td>\n",
              "      <td>https://www.hugi.is/notendur/gufa/</td>\n",
              "      <td>Desember dimman dregur mig inn í ljósin og yl ...</td>\n",
              "      <td>15. des 2015</td>\n",
              "    </tr>\n",
              "    <tr>\n",
              "      <th>2</th>\n",
              "      <td>https://www.hugi.is/ljod/greinar/802945/lettfa...</td>\n",
              "      <td>https://www.hugi.is/notendur/gufa/</td>\n",
              "      <td>Léttfættur í stígvélunum gengur til vinnu sérh...</td>\n",
              "      <td>30. maí 2015</td>\n",
              "    </tr>\n",
              "  </tbody>\n",
              "</table>\n",
              "</div>"
            ],
            "text/plain": [
              "                                           poem_link  ...     poem_date\n",
              "0  https://www.hugi.is/ljod/greinar/803008/vinar-...  ...  28. jún 2016\n",
              "1  https://www.hugi.is/ljod/greinar/802980/desemb...  ...  15. des 2015\n",
              "2  https://www.hugi.is/ljod/greinar/802945/lettfa...  ...  30. maí 2015\n",
              "\n",
              "[3 rows x 4 columns]"
            ]
          },
          "metadata": {},
          "execution_count": 10
        }
      ]
    },
    {
      "cell_type": "code",
      "metadata": {
        "colab": {
          "base_uri": "https://localhost:8080/",
          "height": 255
        },
        "id": "kb0c-5pRhn97",
        "outputId": "ce89cfc0-24b5-429d-e1d9-1a3e38640e8a"
      },
      "source": [
        "texts[texts.author_link.str.endswith('known/')].head()"
      ],
      "execution_count": null,
      "outputs": [
        {
          "output_type": "execute_result",
          "data": {
            "text/html": [
              "<div>\n",
              "<style scoped>\n",
              "    .dataframe tbody tr th:only-of-type {\n",
              "        vertical-align: middle;\n",
              "    }\n",
              "\n",
              "    .dataframe tbody tr th {\n",
              "        vertical-align: top;\n",
              "    }\n",
              "\n",
              "    .dataframe thead th {\n",
              "        text-align: right;\n",
              "    }\n",
              "</style>\n",
              "<table border=\"1\" class=\"dataframe\">\n",
              "  <thead>\n",
              "    <tr style=\"text-align: right;\">\n",
              "      <th></th>\n",
              "      <th>poem_link</th>\n",
              "      <th>author_link</th>\n",
              "      <th>text</th>\n",
              "      <th>poem_date</th>\n",
              "    </tr>\n",
              "  </thead>\n",
              "  <tbody>\n",
              "    <tr>\n",
              "      <th>57</th>\n",
              "      <td>https://www.hugi.is/ljod/greinar/727213/einhva...</td>\n",
              "      <td>https://www.hugi.is/unknown/</td>\n",
              "      <td>Fyrrverandi sem ég kynntist á geðspítala..Anti...</td>\n",
              "      <td>17. júl 2011</td>\n",
              "    </tr>\n",
              "    <tr>\n",
              "      <th>58</th>\n",
              "      <td>https://www.hugi.is/ljod/greinar/727212/duck-b...</td>\n",
              "      <td>https://www.hugi.is/unknown/</td>\n",
              "      <td>Tjaah.. Ég spurði hann hvað ég ætti að skrifa ...</td>\n",
              "      <td>16. júl 2011</td>\n",
              "    </tr>\n",
              "    <tr>\n",
              "      <th>102</th>\n",
              "      <td>https://www.hugi.is/ljod/greinar/708639/saeluf...</td>\n",
              "      <td>https://www.hugi.is/notendur/unknown/</td>\n",
              "      <td>Í gegnum mínar eigin stunurheyri ég hvalarhljó...</td>\n",
              "      <td>10. sep 2010</td>\n",
              "    </tr>\n",
              "    <tr>\n",
              "      <th>103</th>\n",
              "      <td>https://www.hugi.is/ljod/greinar/708486/onefnt/</td>\n",
              "      <td>https://www.hugi.is/unknown/</td>\n",
              "      <td>Máninn tilbiður komu þínaMig langar þér að sýn...</td>\n",
              "      <td>8. sep 2010</td>\n",
              "    </tr>\n",
              "    <tr>\n",
              "      <th>114</th>\n",
              "      <td>https://www.hugi.is/ljod/greinar/696129/hungur...</td>\n",
              "      <td>https://www.hugi.is/unknown/</td>\n",
              "      <td>Hungur verkamannsins Frostið bítur bitran mann...</td>\n",
              "      <td>31. mar 2010</td>\n",
              "    </tr>\n",
              "  </tbody>\n",
              "</table>\n",
              "</div>"
            ],
            "text/plain": [
              "                                             poem_link  ...     poem_date\n",
              "57   https://www.hugi.is/ljod/greinar/727213/einhva...  ...  17. júl 2011\n",
              "58   https://www.hugi.is/ljod/greinar/727212/duck-b...  ...  16. júl 2011\n",
              "102  https://www.hugi.is/ljod/greinar/708639/saeluf...  ...  10. sep 2010\n",
              "103    https://www.hugi.is/ljod/greinar/708486/onefnt/  ...   8. sep 2010\n",
              "114  https://www.hugi.is/ljod/greinar/696129/hungur...  ...  31. mar 2010\n",
              "\n",
              "[5 rows x 4 columns]"
            ]
          },
          "metadata": {},
          "execution_count": 11
        }
      ]
    },
    {
      "cell_type": "code",
      "metadata": {
        "id": "TZuUTzNdQ43U"
      },
      "source": [
        "authors = pd.DataFrame({'author_link': [base_url + '/unknown/'], 'age': [None], 'sex': [None]})\n",
        "\n",
        "for author_link in texts.author_link.unique():\n",
        "    try:\n",
        "        soup4 = BeautifulSoup(urllib.request.urlopen(author_link))\n",
        "    except:\n",
        "        continue\n",
        "        \n",
        "    meta = soup4.find('div', class_='usermeta').text.strip().split('\\n')\n",
        "    age, sex = None, None\n",
        "    for s in meta:\n",
        "        r = re.search(r'([0-9]+)\\sára\\s(kvenmaður|karlmaður)', s)\n",
        "        if r:\n",
        "            age, sex = r[1], r[2]\n",
        "    authors = authors.append({'author_link': author_link, 'age': age, 'sex': sex}, ignore_index=True)"
      ],
      "execution_count": null,
      "outputs": []
    },
    {
      "cell_type": "code",
      "metadata": {
        "id": "SfcB190mQiuv",
        "colab": {
          "base_uri": "https://localhost:8080/",
          "height": 204
        },
        "outputId": "a70299cc-e41c-460f-cf19-f7d7832fae80"
      },
      "source": [
        "authors.head()"
      ],
      "execution_count": null,
      "outputs": [
        {
          "output_type": "execute_result",
          "data": {
            "text/html": [
              "<div>\n",
              "<style scoped>\n",
              "    .dataframe tbody tr th:only-of-type {\n",
              "        vertical-align: middle;\n",
              "    }\n",
              "\n",
              "    .dataframe tbody tr th {\n",
              "        vertical-align: top;\n",
              "    }\n",
              "\n",
              "    .dataframe thead th {\n",
              "        text-align: right;\n",
              "    }\n",
              "</style>\n",
              "<table border=\"1\" class=\"dataframe\">\n",
              "  <thead>\n",
              "    <tr style=\"text-align: right;\">\n",
              "      <th></th>\n",
              "      <th>author_link</th>\n",
              "      <th>age</th>\n",
              "      <th>sex</th>\n",
              "    </tr>\n",
              "  </thead>\n",
              "  <tbody>\n",
              "    <tr>\n",
              "      <th>0</th>\n",
              "      <td>https://www.hugi.is/unknown/</td>\n",
              "      <td>None</td>\n",
              "      <td>None</td>\n",
              "    </tr>\n",
              "    <tr>\n",
              "      <th>1</th>\n",
              "      <td>https://www.hugi.is/notendur/gufa/</td>\n",
              "      <td>None</td>\n",
              "      <td>None</td>\n",
              "    </tr>\n",
              "    <tr>\n",
              "      <th>2</th>\n",
              "      <td>https://www.hugi.is/notendur/pardus/</td>\n",
              "      <td>39</td>\n",
              "      <td>karlmaður</td>\n",
              "    </tr>\n",
              "    <tr>\n",
              "      <th>3</th>\n",
              "      <td>https://www.hugi.is/notendur/Gumma/</td>\n",
              "      <td>None</td>\n",
              "      <td>None</td>\n",
              "    </tr>\n",
              "    <tr>\n",
              "      <th>4</th>\n",
              "      <td>https://www.hugi.is/notendur/Raggatheo/</td>\n",
              "      <td>34</td>\n",
              "      <td>kvenmaður</td>\n",
              "    </tr>\n",
              "  </tbody>\n",
              "</table>\n",
              "</div>"
            ],
            "text/plain": [
              "                               author_link   age        sex\n",
              "0             https://www.hugi.is/unknown/  None       None\n",
              "1       https://www.hugi.is/notendur/gufa/  None       None\n",
              "2     https://www.hugi.is/notendur/pardus/    39  karlmaður\n",
              "3      https://www.hugi.is/notendur/Gumma/  None       None\n",
              "4  https://www.hugi.is/notendur/Raggatheo/    34  kvenmaður"
            ]
          },
          "metadata": {},
          "execution_count": 6
        }
      ]
    },
    {
      "cell_type": "code",
      "metadata": {
        "colab": {
          "base_uri": "https://localhost:8080/",
          "height": 359
        },
        "id": "nk52MfxxvT7D",
        "outputId": "bf05715a-1363-4b10-afa8-4c08e7931991"
      },
      "source": [
        "texts1 = texts.merge(authors, how='inner', left_on='author_link', right_on='author_link')[['text', 'age', 'sex', 'poem_date']]\n",
        "texts1.head(10)"
      ],
      "execution_count": null,
      "outputs": [
        {
          "output_type": "execute_result",
          "data": {
            "text/html": [
              "<div>\n",
              "<style scoped>\n",
              "    .dataframe tbody tr th:only-of-type {\n",
              "        vertical-align: middle;\n",
              "    }\n",
              "\n",
              "    .dataframe tbody tr th {\n",
              "        vertical-align: top;\n",
              "    }\n",
              "\n",
              "    .dataframe thead th {\n",
              "        text-align: right;\n",
              "    }\n",
              "</style>\n",
              "<table border=\"1\" class=\"dataframe\">\n",
              "  <thead>\n",
              "    <tr style=\"text-align: right;\">\n",
              "      <th></th>\n",
              "      <th>text</th>\n",
              "      <th>age</th>\n",
              "      <th>sex</th>\n",
              "      <th>poem_date</th>\n",
              "    </tr>\n",
              "  </thead>\n",
              "  <tbody>\n",
              "    <tr>\n",
              "      <th>0</th>\n",
              "      <td>orð vitundar, vinar lykill Vinar lykill Vegur ...</td>\n",
              "      <td>None</td>\n",
              "      <td>None</td>\n",
              "      <td>28. jún 2016</td>\n",
              "    </tr>\n",
              "    <tr>\n",
              "      <th>1</th>\n",
              "      <td>Desember dimman dregur mig inn í ljósin og yl ...</td>\n",
              "      <td>None</td>\n",
              "      <td>None</td>\n",
              "      <td>15. des 2015</td>\n",
              "    </tr>\n",
              "    <tr>\n",
              "      <th>2</th>\n",
              "      <td>Léttfættur í stígvélunum gengur til vinnu sérh...</td>\n",
              "      <td>None</td>\n",
              "      <td>None</td>\n",
              "      <td>30. maí 2015</td>\n",
              "    </tr>\n",
              "    <tr>\n",
              "      <th>3</th>\n",
              "      <td>Hugprúða frostrós fannhvíti hugur. Fimm lítil ...</td>\n",
              "      <td>None</td>\n",
              "      <td>None</td>\n",
              "      <td>6. mar 2015</td>\n",
              "    </tr>\n",
              "    <tr>\n",
              "      <th>4</th>\n",
              "      <td>Flaugst í hjartað mitt litli rauðbrystingur. B...</td>\n",
              "      <td>None</td>\n",
              "      <td>None</td>\n",
              "      <td>3. jan 2015</td>\n",
              "    </tr>\n",
              "    <tr>\n",
              "      <th>5</th>\n",
              "      <td>Dropar flétta saman frið Um rifu augans Orka Í...</td>\n",
              "      <td>None</td>\n",
              "      <td>None</td>\n",
              "      <td>22. mar 2013</td>\n",
              "    </tr>\n",
              "    <tr>\n",
              "      <th>6</th>\n",
              "      <td>Kærleiks höndin bjarta haltu mér um stund Í fj...</td>\n",
              "      <td>None</td>\n",
              "      <td>None</td>\n",
              "      <td>17. júl 2012</td>\n",
              "    </tr>\n",
              "    <tr>\n",
              "      <th>7</th>\n",
              "      <td>Ég er frjáls undir flöktandi stjörnu, feiminn ...</td>\n",
              "      <td>None</td>\n",
              "      <td>None</td>\n",
              "      <td>8. maí 2012</td>\n",
              "    </tr>\n",
              "    <tr>\n",
              "      <th>8</th>\n",
              "      <td>Ljósir lokkar prýðalifandi elda.Á hvítum tindi...</td>\n",
              "      <td>None</td>\n",
              "      <td>None</td>\n",
              "      <td>12. feb 2012</td>\n",
              "    </tr>\n",
              "    <tr>\n",
              "      <th>9</th>\n",
              "      <td>Sveimandi horfaleika sérSvífandi sindrandi ljó...</td>\n",
              "      <td>None</td>\n",
              "      <td>None</td>\n",
              "      <td>6. des 2011</td>\n",
              "    </tr>\n",
              "  </tbody>\n",
              "</table>\n",
              "</div>"
            ],
            "text/plain": [
              "                                                text   age   sex     poem_date\n",
              "0  orð vitundar, vinar lykill Vinar lykill Vegur ...  None  None  28. jún 2016\n",
              "1  Desember dimman dregur mig inn í ljósin og yl ...  None  None  15. des 2015\n",
              "2  Léttfættur í stígvélunum gengur til vinnu sérh...  None  None  30. maí 2015\n",
              "3  Hugprúða frostrós fannhvíti hugur. Fimm lítil ...  None  None   6. mar 2015\n",
              "4  Flaugst í hjartað mitt litli rauðbrystingur. B...  None  None   3. jan 2015\n",
              "5  Dropar flétta saman frið Um rifu augans Orka Í...  None  None  22. mar 2013\n",
              "6  Kærleiks höndin bjarta haltu mér um stund Í fj...  None  None  17. júl 2012\n",
              "7  Ég er frjáls undir flöktandi stjörnu, feiminn ...  None  None   8. maí 2012\n",
              "8  Ljósir lokkar prýðalifandi elda.Á hvítum tindi...  None  None  12. feb 2012\n",
              "9  Sveimandi horfaleika sérSvífandi sindrandi ljó...  None  None   6. des 2011"
            ]
          },
          "metadata": {},
          "execution_count": 13
        }
      ]
    },
    {
      "cell_type": "code",
      "metadata": {
        "colab": {
          "base_uri": "https://localhost:8080/",
          "height": 80
        },
        "id": "S_KZ-iSBiQ99",
        "outputId": "05c8097f-1082-40e4-a809-d9a3a84ab120"
      },
      "source": [
        "texts1[texts1.text.str.startswith('Fyrrverandi sem')].head()"
      ],
      "execution_count": null,
      "outputs": [
        {
          "output_type": "execute_result",
          "data": {
            "text/html": [
              "<div>\n",
              "<style scoped>\n",
              "    .dataframe tbody tr th:only-of-type {\n",
              "        vertical-align: middle;\n",
              "    }\n",
              "\n",
              "    .dataframe tbody tr th {\n",
              "        vertical-align: top;\n",
              "    }\n",
              "\n",
              "    .dataframe thead th {\n",
              "        text-align: right;\n",
              "    }\n",
              "</style>\n",
              "<table border=\"1\" class=\"dataframe\">\n",
              "  <thead>\n",
              "    <tr style=\"text-align: right;\">\n",
              "      <th></th>\n",
              "      <th>text</th>\n",
              "      <th>age</th>\n",
              "      <th>sex</th>\n",
              "      <th>poem_date</th>\n",
              "    </tr>\n",
              "  </thead>\n",
              "  <tbody>\n",
              "    <tr>\n",
              "      <th>799</th>\n",
              "      <td>Fyrrverandi sem ég kynntist á geðspítala..Anti...</td>\n",
              "      <td>None</td>\n",
              "      <td>None</td>\n",
              "      <td>17. júl 2011</td>\n",
              "    </tr>\n",
              "  </tbody>\n",
              "</table>\n",
              "</div>"
            ],
            "text/plain": [
              "                                                  text  ...     poem_date\n",
              "799  Fyrrverandi sem ég kynntist á geðspítala..Anti...  ...  17. júl 2011\n",
              "\n",
              "[1 rows x 4 columns]"
            ]
          },
          "metadata": {},
          "execution_count": 14
        }
      ]
    },
    {
      "cell_type": "code",
      "metadata": {
        "id": "Q-DD9TJ5v7t-"
      },
      "source": [
        "texts1.to_csv('hugi.is.poems.csv', index=False)"
      ],
      "execution_count": null,
      "outputs": []
    }
  ]
}